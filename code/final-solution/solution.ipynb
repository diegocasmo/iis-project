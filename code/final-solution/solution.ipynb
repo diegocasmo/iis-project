{
 "cells": [
  {
   "cell_type": "markdown",
   "metadata": {},
   "source": [
    "# Analysis and Classification of The Bosphorus Database"
   ]
  },
  {
   "cell_type": "markdown",
   "metadata": {},
   "source": [
    "TODO: Short description of dataset and the goal of the project"
   ]
  },
  {
   "cell_type": "markdown",
   "metadata": {},
   "source": [
    "TODO: Describe data pre-processing steps to create the ``.csv`` file"
   ]
  },
  {
   "cell_type": "markdown",
   "metadata": {},
   "source": [
    "## Load Dataset"
   ]
  },
  {
   "cell_type": "code",
   "execution_count": 1,
   "metadata": {},
   "outputs": [],
   "source": [
    "import pandas as pd\n",
    "\n",
    "data_df = pd.read_csv(r'../../data/lm3.csv')"
   ]
  },
  {
   "cell_type": "markdown",
   "metadata": {},
   "source": [
    "## Visualize Dataset Format and Number of Features"
   ]
  },
  {
   "cell_type": "markdown",
   "metadata": {},
   "source": [
    "TODO: description of the dataset format (i.e. each column represents a label in a particular dimension...)"
   ]
  },
  {
   "cell_type": "code",
   "execution_count": 2,
   "metadata": {},
   "outputs": [
    {
     "name": "stdout",
     "output_type": "stream",
     "text": [
      "Total number of features: \t79\n"
     ]
    },
    {
     "data": {
      "text/html": [
       "<div>\n",
       "<style scoped>\n",
       "    .dataframe tbody tr th:only-of-type {\n",
       "        vertical-align: middle;\n",
       "    }\n",
       "\n",
       "    .dataframe tbody tr th {\n",
       "        vertical-align: top;\n",
       "    }\n",
       "\n",
       "    .dataframe thead th {\n",
       "        text-align: right;\n",
       "    }\n",
       "</style>\n",
       "<table border=\"1\" class=\"dataframe\">\n",
       "  <thead>\n",
       "    <tr style=\"text-align: right;\">\n",
       "      <th></th>\n",
       "      <th>Label</th>\n",
       "      <th>Outer left eyebrow-x</th>\n",
       "      <th>Outer left eyebrow-y</th>\n",
       "      <th>Outer left eyebrow-z</th>\n",
       "      <th>Middle left eyebrow-x</th>\n",
       "      <th>Middle left eyebrow-y</th>\n",
       "      <th>Middle left eyebrow-z</th>\n",
       "      <th>Inner left eyebrow-x</th>\n",
       "      <th>Inner left eyebrow-y</th>\n",
       "      <th>Inner left eyebrow-z</th>\n",
       "      <th>...</th>\n",
       "      <th>Lower lip outer middle-z</th>\n",
       "      <th>Chin middle-x</th>\n",
       "      <th>Chin middle-y</th>\n",
       "      <th>Chin middle-z</th>\n",
       "      <th>Left ear lobe-x</th>\n",
       "      <th>Left ear lobe-y</th>\n",
       "      <th>Left ear lobe-z</th>\n",
       "      <th>Right ear lobe-x</th>\n",
       "      <th>Right ear lobe-y</th>\n",
       "      <th>Right ear lobe-z</th>\n",
       "    </tr>\n",
       "  </thead>\n",
       "  <tbody>\n",
       "    <tr>\n",
       "      <th>0</th>\n",
       "      <td>ANGER</td>\n",
       "      <td>-72.961</td>\n",
       "      <td>-1.725</td>\n",
       "      <td>22.958</td>\n",
       "      <td>-55.678</td>\n",
       "      <td>4.591</td>\n",
       "      <td>38.791</td>\n",
       "      <td>-31.920</td>\n",
       "      <td>-1.929</td>\n",
       "      <td>36.645</td>\n",
       "      <td>...</td>\n",
       "      <td>39.421</td>\n",
       "      <td>-9.840</td>\n",
       "      <td>-112.234</td>\n",
       "      <td>31.313</td>\n",
       "      <td>NaN</td>\n",
       "      <td>NaN</td>\n",
       "      <td>NaN</td>\n",
       "      <td>NaN</td>\n",
       "      <td>NaN</td>\n",
       "      <td>NaN</td>\n",
       "    </tr>\n",
       "    <tr>\n",
       "      <th>1</th>\n",
       "      <td>DISGUST</td>\n",
       "      <td>-76.565</td>\n",
       "      <td>-0.458</td>\n",
       "      <td>6.126</td>\n",
       "      <td>-62.086</td>\n",
       "      <td>9.454</td>\n",
       "      <td>24.055</td>\n",
       "      <td>-35.614</td>\n",
       "      <td>2.066</td>\n",
       "      <td>25.073</td>\n",
       "      <td>...</td>\n",
       "      <td>24.378</td>\n",
       "      <td>-13.583</td>\n",
       "      <td>-109.568</td>\n",
       "      <td>19.583</td>\n",
       "      <td>NaN</td>\n",
       "      <td>NaN</td>\n",
       "      <td>NaN</td>\n",
       "      <td>NaN</td>\n",
       "      <td>NaN</td>\n",
       "      <td>NaN</td>\n",
       "    </tr>\n",
       "    <tr>\n",
       "      <th>2</th>\n",
       "      <td>FEAR</td>\n",
       "      <td>-76.163</td>\n",
       "      <td>6.390</td>\n",
       "      <td>10.784</td>\n",
       "      <td>-57.083</td>\n",
       "      <td>16.865</td>\n",
       "      <td>30.162</td>\n",
       "      <td>-33.708</td>\n",
       "      <td>14.082</td>\n",
       "      <td>32.408</td>\n",
       "      <td>...</td>\n",
       "      <td>42.100</td>\n",
       "      <td>-13.020</td>\n",
       "      <td>-110.107</td>\n",
       "      <td>33.429</td>\n",
       "      <td>NaN</td>\n",
       "      <td>NaN</td>\n",
       "      <td>NaN</td>\n",
       "      <td>NaN</td>\n",
       "      <td>NaN</td>\n",
       "      <td>NaN</td>\n",
       "    </tr>\n",
       "    <tr>\n",
       "      <th>3</th>\n",
       "      <td>HAPPY</td>\n",
       "      <td>-72.140</td>\n",
       "      <td>8.896</td>\n",
       "      <td>9.353</td>\n",
       "      <td>-54.721</td>\n",
       "      <td>22.380</td>\n",
       "      <td>27.474</td>\n",
       "      <td>-29.789</td>\n",
       "      <td>15.802</td>\n",
       "      <td>28.937</td>\n",
       "      <td>...</td>\n",
       "      <td>38.018</td>\n",
       "      <td>-9.030</td>\n",
       "      <td>-97.687</td>\n",
       "      <td>36.058</td>\n",
       "      <td>NaN</td>\n",
       "      <td>NaN</td>\n",
       "      <td>NaN</td>\n",
       "      <td>NaN</td>\n",
       "      <td>NaN</td>\n",
       "      <td>NaN</td>\n",
       "    </tr>\n",
       "    <tr>\n",
       "      <th>4</th>\n",
       "      <td>SADNESS</td>\n",
       "      <td>-73.743</td>\n",
       "      <td>3.099</td>\n",
       "      <td>12.438</td>\n",
       "      <td>-58.607</td>\n",
       "      <td>15.144</td>\n",
       "      <td>29.381</td>\n",
       "      <td>-32.979</td>\n",
       "      <td>11.594</td>\n",
       "      <td>30.048</td>\n",
       "      <td>...</td>\n",
       "      <td>41.452</td>\n",
       "      <td>-10.731</td>\n",
       "      <td>-100.452</td>\n",
       "      <td>35.956</td>\n",
       "      <td>NaN</td>\n",
       "      <td>NaN</td>\n",
       "      <td>NaN</td>\n",
       "      <td>NaN</td>\n",
       "      <td>NaN</td>\n",
       "      <td>NaN</td>\n",
       "    </tr>\n",
       "  </tbody>\n",
       "</table>\n",
       "<p>5 rows × 79 columns</p>\n",
       "</div>"
      ],
      "text/plain": [
       "     Label  Outer left eyebrow-x  Outer left eyebrow-y  Outer left eyebrow-z  \\\n",
       "0    ANGER               -72.961                -1.725                22.958   \n",
       "1  DISGUST               -76.565                -0.458                 6.126   \n",
       "2     FEAR               -76.163                 6.390                10.784   \n",
       "3    HAPPY               -72.140                 8.896                 9.353   \n",
       "4  SADNESS               -73.743                 3.099                12.438   \n",
       "\n",
       "   Middle left eyebrow-x  Middle left eyebrow-y  Middle left eyebrow-z  \\\n",
       "0                -55.678                  4.591                 38.791   \n",
       "1                -62.086                  9.454                 24.055   \n",
       "2                -57.083                 16.865                 30.162   \n",
       "3                -54.721                 22.380                 27.474   \n",
       "4                -58.607                 15.144                 29.381   \n",
       "\n",
       "   Inner left eyebrow-x  Inner left eyebrow-y  Inner left eyebrow-z  \\\n",
       "0               -31.920                -1.929                36.645   \n",
       "1               -35.614                 2.066                25.073   \n",
       "2               -33.708                14.082                32.408   \n",
       "3               -29.789                15.802                28.937   \n",
       "4               -32.979                11.594                30.048   \n",
       "\n",
       "         ...         Lower lip outer middle-z  Chin middle-x  Chin middle-y  \\\n",
       "0        ...                           39.421         -9.840       -112.234   \n",
       "1        ...                           24.378        -13.583       -109.568   \n",
       "2        ...                           42.100        -13.020       -110.107   \n",
       "3        ...                           38.018         -9.030        -97.687   \n",
       "4        ...                           41.452        -10.731       -100.452   \n",
       "\n",
       "   Chin middle-z  Left ear lobe-x  Left ear lobe-y  Left ear lobe-z  \\\n",
       "0         31.313              NaN              NaN              NaN   \n",
       "1         19.583              NaN              NaN              NaN   \n",
       "2         33.429              NaN              NaN              NaN   \n",
       "3         36.058              NaN              NaN              NaN   \n",
       "4         35.956              NaN              NaN              NaN   \n",
       "\n",
       "   Right ear lobe-x  Right ear lobe-y  Right ear lobe-z  \n",
       "0               NaN               NaN               NaN  \n",
       "1               NaN               NaN               NaN  \n",
       "2               NaN               NaN               NaN  \n",
       "3               NaN               NaN               NaN  \n",
       "4               NaN               NaN               NaN  \n",
       "\n",
       "[5 rows x 79 columns]"
      ]
     },
     "execution_count": 2,
     "metadata": {},
     "output_type": "execute_result"
    }
   ],
   "source": [
    "print('Total number of features: \\t%s' % len(data_df.columns.values))\n",
    "data_df.head()"
   ]
  },
  {
   "cell_type": "markdown",
   "metadata": {},
   "source": [
    "## Feature Transformation"
   ]
  },
  {
   "cell_type": "markdown",
   "metadata": {},
   "source": [
    "#### Drop Static Features"
   ]
  },
  {
   "cell_type": "markdown",
   "metadata": {},
   "source": [
    "TODO: Describe intiution behind this decision"
   ]
  },
  {
   "cell_type": "code",
   "execution_count": 3,
   "metadata": {},
   "outputs": [],
   "source": [
    "def get_3d_feature(feature):\n",
    "    '''\n",
    "    Return a feature with an identifier for each of the 3 dimensions\n",
    "    '''\n",
    "    return [feature + '-x', feature + '-y', feature + '-z']"
   ]
  },
  {
   "cell_type": "code",
   "execution_count": 4,
   "metadata": {},
   "outputs": [
    {
     "name": "stdout",
     "output_type": "stream",
     "text": [
      "Total number of features before drop: \t79\n",
      "Total number of features after drop: \t52\n"
     ]
    }
   ],
   "source": [
    "# Drop potentially unuseful features \n",
    "features_to_drop = get_3d_feature('Right nose peak') + get_3d_feature('Left nose peak') + \\\n",
    "                get_3d_feature('Left temple') + get_3d_feature('Right temple') + \\\n",
    "                get_3d_feature('Right ear lobe') + get_3d_feature('Left ear lobe') + \\\n",
    "                get_3d_feature('Nose saddle left') + get_3d_feature('Nose saddle right') + \\\n",
    "                get_3d_feature('Chin middle')\n",
    "                \n",
    "print('Total number of features before drop: \\t%s' % len(data_df.columns.values))\n",
    "data_df = data_df.drop(features_to_drop, axis=1, errors='ignore')\n",
    "print('Total number of features after drop: \\t%s' % len(data_df.columns.values))"
   ]
  },
  {
   "cell_type": "markdown",
   "metadata": {},
   "source": [
    "#### Drop Features Where NaN Is Present"
   ]
  },
  {
   "cell_type": "markdown",
   "metadata": {},
   "source": [
    "TODO: Describe why is this necessary (i.e. we cannot compute the distance from Nose Tip to a feature that has an invalid number)"
   ]
  },
  {
   "cell_type": "code",
   "execution_count": 5,
   "metadata": {},
   "outputs": [
    {
     "name": "stdout",
     "output_type": "stream",
     "text": [
      "Total number of features before dropping NaN: \t52\n",
      "Total number of features after dropping NaN: \t46\n"
     ]
    }
   ],
   "source": [
    "print('Total number of features before dropping NaN: \\t%s' % len(data_df.columns.values))\n",
    "data_df = data_df.dropna(axis=1, how='any')\n",
    "print('Total number of features after dropping NaN: \\t%s' % len(data_df.columns.values))"
   ]
  },
  {
   "cell_type": "markdown",
   "metadata": {},
   "source": [
    "#### Compute Distance From All Features To 'Nose Tip'"
   ]
  },
  {
   "cell_type": "markdown",
   "metadata": {},
   "source": [
    "TODO: Explain intuition behind this decision (i.e. nose tip position is likely to be similar regardless of emotion)"
   ]
  },
  {
   "cell_type": "code",
   "execution_count": 6,
   "metadata": {},
   "outputs": [],
   "source": [
    "import math\n",
    "\n",
    "def get_euclidean_distance(x1, x2, y1, y2, z1, z2):\n",
    "    '''\n",
    "    Return the euclidean distance between two points\n",
    "    '''\n",
    "    term_1 = x1 - x2\n",
    "    term_2 = y1 - y2\n",
    "    term_3 = z1 - z2\n",
    "    return math.sqrt(term_1 ** 2 + term_2 ** 2 + term_3 ** 2)"
   ]
  },
  {
   "cell_type": "markdown",
   "metadata": {},
   "source": [
    "Create a new dataframe using the distance from all features to 'Nose Tip'"
   ]
  },
  {
   "cell_type": "code",
   "execution_count": 7,
   "metadata": {},
   "outputs": [],
   "source": [
    "def is_feature_valid(feature, columns):\n",
    "    '''\n",
    "    Return true if a feature is defined in all dimensions, false othe\n",
    "    '''\n",
    "    return feature + '-x' in columns and feature + '-y' in columns and feature + '-z' in columns"
   ]
  },
  {
   "cell_type": "code",
   "execution_count": 8,
   "metadata": {},
   "outputs": [],
   "source": [
    "from constants import get_all_features\n",
    "\n",
    "# Save all features which have their values correctly defined in all dimensions\n",
    "valid_features = []\n",
    "columns = data_df.columns.values\n",
    "for feature in get_all_features():\n",
    "    if is_feature_valid(feature, columns):\n",
    "        valid_features.append(feature)\n",
    "        \n",
    "# Create dictionary to temporarily hold distance values from each feature to 'Nose Tip'\n",
    "data_dict = {}\n",
    "for feature in valid_features:\n",
    "    data_dict[feature + '-distance'] = []\n",
    "    \n",
    "# For each feature, compute its distance to 'Nose Tip'\n",
    "for _, row in data_df.iterrows():\n",
    "    for feature in valid_features:\n",
    "        nose_x, nose_y, nose_z = (row['Nose tip-x'], row['Nose tip-y'], row['Nose tip-z'])\n",
    "        feature_x, feature_y, feature_z = (row[feature + '-x'], row[feature + '-y'], row[feature + '-z'])\n",
    "        distance = get_euclidean_distance(feature_x, nose_x, feature_y, nose_y, feature_z, nose_z)\n",
    "        data_dict[feature + '-distance'].append(distance)"
   ]
  },
  {
   "cell_type": "markdown",
   "metadata": {},
   "source": [
    "#### Visualize new dataset format"
   ]
  },
  {
   "cell_type": "code",
   "execution_count": 9,
   "metadata": {},
   "outputs": [
    {
     "data": {
      "text/html": [
       "<div>\n",
       "<style scoped>\n",
       "    .dataframe tbody tr th:only-of-type {\n",
       "        vertical-align: middle;\n",
       "    }\n",
       "\n",
       "    .dataframe tbody tr th {\n",
       "        vertical-align: top;\n",
       "    }\n",
       "\n",
       "    .dataframe thead th {\n",
       "        text-align: right;\n",
       "    }\n",
       "</style>\n",
       "<table border=\"1\" class=\"dataframe\">\n",
       "  <thead>\n",
       "    <tr style=\"text-align: right;\">\n",
       "      <th></th>\n",
       "      <th>Label</th>\n",
       "      <th>Inner left eye corner-distance</th>\n",
       "      <th>Inner left eyebrow-distance</th>\n",
       "      <th>Inner right eye corner-distance</th>\n",
       "      <th>Inner right eyebrow-distance</th>\n",
       "      <th>Left mouth corner-distance</th>\n",
       "      <th>Lower lip outer middle-distance</th>\n",
       "      <th>Middle left eyebrow-distance</th>\n",
       "      <th>Middle right eyebrow-distance</th>\n",
       "      <th>Outer left eye corner-distance</th>\n",
       "      <th>Outer left eyebrow-distance</th>\n",
       "      <th>Outer right eye corner-distance</th>\n",
       "      <th>Outer right eyebrow-distance</th>\n",
       "      <th>Right mouth corner-distance</th>\n",
       "      <th>Upper lip outer middle-distance</th>\n",
       "    </tr>\n",
       "  </thead>\n",
       "  <tbody>\n",
       "    <tr>\n",
       "      <th>0</th>\n",
       "      <td>ANGER</td>\n",
       "      <td>48.320893</td>\n",
       "      <td>52.302733</td>\n",
       "      <td>46.445306</td>\n",
       "      <td>49.323696</td>\n",
       "      <td>49.710507</td>\n",
       "      <td>47.027712</td>\n",
       "      <td>68.604555</td>\n",
       "      <td>62.403460</td>\n",
       "      <td>69.056291</td>\n",
       "      <td>82.751964</td>\n",
       "      <td>69.686552</td>\n",
       "      <td>77.457973</td>\n",
       "      <td>50.377337</td>\n",
       "      <td>37.257397</td>\n",
       "    </tr>\n",
       "    <tr>\n",
       "      <th>1</th>\n",
       "      <td>DISGUST</td>\n",
       "      <td>49.676002</td>\n",
       "      <td>56.297807</td>\n",
       "      <td>47.923506</td>\n",
       "      <td>53.636198</td>\n",
       "      <td>60.168264</td>\n",
       "      <td>47.237504</td>\n",
       "      <td>75.618506</td>\n",
       "      <td>68.595138</td>\n",
       "      <td>69.800333</td>\n",
       "      <td>86.974470</td>\n",
       "      <td>69.653552</td>\n",
       "      <td>80.602320</td>\n",
       "      <td>61.014204</td>\n",
       "      <td>30.427472</td>\n",
       "    </tr>\n",
       "    <tr>\n",
       "      <th>2</th>\n",
       "      <td>FEAR</td>\n",
       "      <td>51.721834</td>\n",
       "      <td>55.412569</td>\n",
       "      <td>47.899946</td>\n",
       "      <td>52.126447</td>\n",
       "      <td>59.278691</td>\n",
       "      <td>56.691828</td>\n",
       "      <td>70.193833</td>\n",
       "      <td>65.250849</td>\n",
       "      <td>69.292339</td>\n",
       "      <td>87.016438</td>\n",
       "      <td>69.986870</td>\n",
       "      <td>83.150397</td>\n",
       "      <td>59.718072</td>\n",
       "      <td>32.909250</td>\n",
       "    </tr>\n",
       "    <tr>\n",
       "      <th>3</th>\n",
       "      <td>HAPPY</td>\n",
       "      <td>50.123712</td>\n",
       "      <td>56.339942</td>\n",
       "      <td>48.696039</td>\n",
       "      <td>55.593275</td>\n",
       "      <td>59.423615</td>\n",
       "      <td>46.997084</td>\n",
       "      <td>74.337650</td>\n",
       "      <td>72.985060</td>\n",
       "      <td>71.752651</td>\n",
       "      <td>87.714131</td>\n",
       "      <td>71.318389</td>\n",
       "      <td>90.340048</td>\n",
       "      <td>62.375068</td>\n",
       "      <td>29.701697</td>\n",
       "    </tr>\n",
       "    <tr>\n",
       "      <th>4</th>\n",
       "      <td>SADNESS</td>\n",
       "      <td>47.775040</td>\n",
       "      <td>54.819732</td>\n",
       "      <td>46.514515</td>\n",
       "      <td>51.802259</td>\n",
       "      <td>56.603095</td>\n",
       "      <td>46.792953</td>\n",
       "      <td>71.457392</td>\n",
       "      <td>63.548657</td>\n",
       "      <td>70.203170</td>\n",
       "      <td>84.063570</td>\n",
       "      <td>67.659181</td>\n",
       "      <td>80.334043</td>\n",
       "      <td>56.767108</td>\n",
       "      <td>35.393646</td>\n",
       "    </tr>\n",
       "  </tbody>\n",
       "</table>\n",
       "</div>"
      ],
      "text/plain": [
       "     Label  Inner left eye corner-distance  Inner left eyebrow-distance  \\\n",
       "0    ANGER                       48.320893                    52.302733   \n",
       "1  DISGUST                       49.676002                    56.297807   \n",
       "2     FEAR                       51.721834                    55.412569   \n",
       "3    HAPPY                       50.123712                    56.339942   \n",
       "4  SADNESS                       47.775040                    54.819732   \n",
       "\n",
       "   Inner right eye corner-distance  Inner right eyebrow-distance  \\\n",
       "0                        46.445306                     49.323696   \n",
       "1                        47.923506                     53.636198   \n",
       "2                        47.899946                     52.126447   \n",
       "3                        48.696039                     55.593275   \n",
       "4                        46.514515                     51.802259   \n",
       "\n",
       "   Left mouth corner-distance  Lower lip outer middle-distance  \\\n",
       "0                   49.710507                        47.027712   \n",
       "1                   60.168264                        47.237504   \n",
       "2                   59.278691                        56.691828   \n",
       "3                   59.423615                        46.997084   \n",
       "4                   56.603095                        46.792953   \n",
       "\n",
       "   Middle left eyebrow-distance  Middle right eyebrow-distance  \\\n",
       "0                     68.604555                      62.403460   \n",
       "1                     75.618506                      68.595138   \n",
       "2                     70.193833                      65.250849   \n",
       "3                     74.337650                      72.985060   \n",
       "4                     71.457392                      63.548657   \n",
       "\n",
       "   Outer left eye corner-distance  Outer left eyebrow-distance  \\\n",
       "0                       69.056291                    82.751964   \n",
       "1                       69.800333                    86.974470   \n",
       "2                       69.292339                    87.016438   \n",
       "3                       71.752651                    87.714131   \n",
       "4                       70.203170                    84.063570   \n",
       "\n",
       "   Outer right eye corner-distance  Outer right eyebrow-distance  \\\n",
       "0                        69.686552                     77.457973   \n",
       "1                        69.653552                     80.602320   \n",
       "2                        69.986870                     83.150397   \n",
       "3                        71.318389                     90.340048   \n",
       "4                        67.659181                     80.334043   \n",
       "\n",
       "   Right mouth corner-distance  Upper lip outer middle-distance  \n",
       "0                    50.377337                        37.257397  \n",
       "1                    61.014204                        30.427472  \n",
       "2                    59.718072                        32.909250  \n",
       "3                    62.375068                        29.701697  \n",
       "4                    56.767108                        35.393646  "
      ]
     },
     "execution_count": 9,
     "metadata": {},
     "output_type": "execute_result"
    }
   ],
   "source": [
    "distance_df = pd.concat([data_df[['Label']], pd.DataFrame.from_dict(data_dict)], axis = 1)\n",
    "# Drop the 'Nose tip-distance' label, as its distance will be 0\n",
    "distance_df = distance_df.drop(['Nose tip-distance'], axis=1, errors='ignore')\n",
    "distance_df.head()"
   ]
  },
  {
   "cell_type": "markdown",
   "metadata": {},
   "source": [
    "## Data Normalization"
   ]
  },
  {
   "cell_type": "markdown",
   "metadata": {},
   "source": [
    "TODO: Describe why are we doing this"
   ]
  },
  {
   "cell_type": "code",
   "execution_count": 10,
   "metadata": {},
   "outputs": [],
   "source": [
    "from sklearn.preprocessing import normalize\n",
    "\n",
    "# Separate features from their labels\n",
    "features = [x != 'Label' for x in distance_df.columns.values]\n",
    "values = distance_df.loc[:, features].values\n",
    "labels = distance_df.loc[:,['Label']].values\n",
    "\n",
    "# Scale values (mean = 0 and variance = 1)\n",
    "values =  normalize(values, axis=0)"
   ]
  },
  {
   "cell_type": "markdown",
   "metadata": {},
   "source": [
    "## Dimensionality Reduction"
   ]
  },
  {
   "cell_type": "markdown",
   "metadata": {},
   "source": [
    "TODO: Describe what dimensionality reduction is and why is it necessary"
   ]
  },
  {
   "cell_type": "markdown",
   "metadata": {},
   "source": [
    "#### PCA"
   ]
  },
  {
   "cell_type": "markdown",
   "metadata": {},
   "source": [
    "TODO: Describe what PCA is"
   ]
  },
  {
   "cell_type": "markdown",
   "metadata": {},
   "source": [
    "TODO: In PCA we use the option ['mle'](http://scikit-learn.org/stable/modules/generated/sklearn.decomposition.PCA.html), describe what it is and what it does"
   ]
  },
  {
   "cell_type": "code",
   "execution_count": 11,
   "metadata": {},
   "outputs": [
    {
     "data": {
      "text/html": [
       "<div>\n",
       "<style scoped>\n",
       "    .dataframe tbody tr th:only-of-type {\n",
       "        vertical-align: middle;\n",
       "    }\n",
       "\n",
       "    .dataframe tbody tr th {\n",
       "        vertical-align: top;\n",
       "    }\n",
       "\n",
       "    .dataframe thead th {\n",
       "        text-align: right;\n",
       "    }\n",
       "</style>\n",
       "<table border=\"1\" class=\"dataframe\">\n",
       "  <thead>\n",
       "    <tr style=\"text-align: right;\">\n",
       "      <th></th>\n",
       "      <th>Label</th>\n",
       "      <th>0</th>\n",
       "      <th>1</th>\n",
       "      <th>2</th>\n",
       "      <th>3</th>\n",
       "      <th>4</th>\n",
       "      <th>5</th>\n",
       "      <th>6</th>\n",
       "      <th>7</th>\n",
       "      <th>8</th>\n",
       "      <th>9</th>\n",
       "      <th>10</th>\n",
       "      <th>11</th>\n",
       "      <th>12</th>\n",
       "    </tr>\n",
       "  </thead>\n",
       "  <tbody>\n",
       "    <tr>\n",
       "      <th>0</th>\n",
       "      <td>ANGER</td>\n",
       "      <td>-1.174263</td>\n",
       "      <td>0.424765</td>\n",
       "      <td>-1.339924</td>\n",
       "      <td>-2.213528</td>\n",
       "      <td>-0.457107</td>\n",
       "      <td>0.151494</td>\n",
       "      <td>1.536032</td>\n",
       "      <td>0.354164</td>\n",
       "      <td>-1.246977</td>\n",
       "      <td>-0.592723</td>\n",
       "      <td>0.055913</td>\n",
       "      <td>-0.471082</td>\n",
       "      <td>-0.935367</td>\n",
       "    </tr>\n",
       "    <tr>\n",
       "      <th>1</th>\n",
       "      <td>DISGUST</td>\n",
       "      <td>-0.569993</td>\n",
       "      <td>0.074827</td>\n",
       "      <td>-0.046436</td>\n",
       "      <td>0.576331</td>\n",
       "      <td>1.590421</td>\n",
       "      <td>-0.924688</td>\n",
       "      <td>0.919660</td>\n",
       "      <td>0.610372</td>\n",
       "      <td>-0.890363</td>\n",
       "      <td>-1.093984</td>\n",
       "      <td>0.121268</td>\n",
       "      <td>-0.483362</td>\n",
       "      <td>-0.476535</td>\n",
       "    </tr>\n",
       "    <tr>\n",
       "      <th>2</th>\n",
       "      <td>FEAR</td>\n",
       "      <td>-0.356588</td>\n",
       "      <td>0.762550</td>\n",
       "      <td>-0.170029</td>\n",
       "      <td>0.205319</td>\n",
       "      <td>0.218146</td>\n",
       "      <td>0.290168</td>\n",
       "      <td>1.111023</td>\n",
       "      <td>-0.495523</td>\n",
       "      <td>-0.817918</td>\n",
       "      <td>-0.815170</td>\n",
       "      <td>0.382726</td>\n",
       "      <td>-0.590167</td>\n",
       "      <td>-2.159829</td>\n",
       "    </tr>\n",
       "    <tr>\n",
       "      <th>3</th>\n",
       "      <td>HAPPY</td>\n",
       "      <td>-0.363742</td>\n",
       "      <td>-0.176832</td>\n",
       "      <td>0.040847</td>\n",
       "      <td>0.806474</td>\n",
       "      <td>1.222247</td>\n",
       "      <td>-1.153063</td>\n",
       "      <td>-0.886822</td>\n",
       "      <td>-0.283536</td>\n",
       "      <td>-0.484652</td>\n",
       "      <td>-0.081036</td>\n",
       "      <td>1.478842</td>\n",
       "      <td>-0.866403</td>\n",
       "      <td>-0.408273</td>\n",
       "    </tr>\n",
       "    <tr>\n",
       "      <th>4</th>\n",
       "      <td>SADNESS</td>\n",
       "      <td>-0.852953</td>\n",
       "      <td>0.416729</td>\n",
       "      <td>-0.982098</td>\n",
       "      <td>-0.969243</td>\n",
       "      <td>1.051769</td>\n",
       "      <td>-0.497706</td>\n",
       "      <td>1.297921</td>\n",
       "      <td>-0.206054</td>\n",
       "      <td>-1.319105</td>\n",
       "      <td>-0.406073</td>\n",
       "      <td>0.444230</td>\n",
       "      <td>-1.353984</td>\n",
       "      <td>0.185025</td>\n",
       "    </tr>\n",
       "  </tbody>\n",
       "</table>\n",
       "</div>"
      ],
      "text/plain": [
       "     Label         0         1         2         3         4         5  \\\n",
       "0    ANGER -1.174263  0.424765 -1.339924 -2.213528 -0.457107  0.151494   \n",
       "1  DISGUST -0.569993  0.074827 -0.046436  0.576331  1.590421 -0.924688   \n",
       "2     FEAR -0.356588  0.762550 -0.170029  0.205319  0.218146  0.290168   \n",
       "3    HAPPY -0.363742 -0.176832  0.040847  0.806474  1.222247 -1.153063   \n",
       "4  SADNESS -0.852953  0.416729 -0.982098 -0.969243  1.051769 -0.497706   \n",
       "\n",
       "          6         7         8         9        10        11        12  \n",
       "0  1.536032  0.354164 -1.246977 -0.592723  0.055913 -0.471082 -0.935367  \n",
       "1  0.919660  0.610372 -0.890363 -1.093984  0.121268 -0.483362 -0.476535  \n",
       "2  1.111023 -0.495523 -0.817918 -0.815170  0.382726 -0.590167 -2.159829  \n",
       "3 -0.886822 -0.283536 -0.484652 -0.081036  1.478842 -0.866403 -0.408273  \n",
       "4  1.297921 -0.206054 -1.319105 -0.406073  0.444230 -1.353984  0.185025  "
      ]
     },
     "execution_count": 11,
     "metadata": {},
     "output_type": "execute_result"
    }
   ],
   "source": [
    "# Use PCA to reduce dimensionality\n",
    "from sklearn.decomposition import PCA\n",
    "\n",
    "pca = PCA(n_components='mle', whiten = True)\n",
    "principal_components = pca.fit_transform(values)\n",
    "principal_df = pd.DataFrame(data = principal_components)\n",
    "# Add the label to the dataframe with the principal components\n",
    "principal_labels_df = pd.concat([distance_df[['Label']], principal_df], axis = 1)\n",
    "principal_labels_df.head()"
   ]
  },
  {
   "cell_type": "markdown",
   "metadata": {},
   "source": [
    "Visualize the PCA 2d projection"
   ]
  },
  {
   "cell_type": "code",
   "execution_count": 26,
   "metadata": {},
   "outputs": [
    {
     "data": {
      "image/png": "[encoded data removed]",
      "text/plain": [
       "<matplotlib.figure.Figure at 0x1a209a1e80>"
      ]
     },
     "metadata": {},
     "output_type": "display_data"
    }
   ],
   "source": [
    "import matplotlib.pyplot as plt\n",
    "\n",
    "fig = plt.figure(figsize = (5,5))\n",
    "ax = fig.add_subplot(1,1,1) \n",
    "x_label = principal_labels_df.columns.values[1]\n",
    "y_label = principal_labels_df.columns.values[2]\n",
    "ax.set_xlabel(x_label, fontsize = 12)\n",
    "ax.set_ylabel(y_label, fontsize = 12)\n",
    "ax.set_title('3 Components PCA', fontsize = 15)\n",
    "\n",
    "targets = ['ANGER', 'DISGUST', 'FEAR', 'HAPPY', 'SADNESS', 'SURPRISE']\n",
    "colors = ['b', 'g', 'r', 'c', 'm', 'y']\n",
    "for target, color in zip(targets, colors):\n",
    "    indexes_to_keep = principal_labels_df['Label'] == target\n",
    "    ax.scatter(\n",
    "        principal_labels_df.loc[indexes_to_keep, x_label],\n",
    "        principal_labels_df.loc[indexes_to_keep, y_label],\n",
    "        c = color,\n",
    "        s = 50\n",
    "    )\n",
    "ax.legend(targets)\n",
    "ax.grid()\n",
    "plt.show()"
   ]
  },
  {
   "cell_type": "markdown",
   "metadata": {},
   "source": [
    "#### TSNE"
   ]
  },
  {
   "cell_type": "markdown",
   "metadata": {},
   "source": [
    "TODO: Describe what TSNE is"
   ]
  },
  {
   "cell_type": "code",
   "execution_count": 13,
   "metadata": {},
   "outputs": [
    {
     "data": {
      "text/html": [
       "<div>\n",
       "<style scoped>\n",
       "    .dataframe tbody tr th:only-of-type {\n",
       "        vertical-align: middle;\n",
       "    }\n",
       "\n",
       "    .dataframe tbody tr th {\n",
       "        vertical-align: top;\n",
       "    }\n",
       "\n",
       "    .dataframe thead th {\n",
       "        text-align: right;\n",
       "    }\n",
       "</style>\n",
       "<table border=\"1\" class=\"dataframe\">\n",
       "  <thead>\n",
       "    <tr style=\"text-align: right;\">\n",
       "      <th></th>\n",
       "      <th>Label</th>\n",
       "      <th>0</th>\n",
       "      <th>1</th>\n",
       "      <th>2</th>\n",
       "      <th>3</th>\n",
       "      <th>4</th>\n",
       "      <th>5</th>\n",
       "      <th>6</th>\n",
       "      <th>7</th>\n",
       "      <th>8</th>\n",
       "      <th>9</th>\n",
       "      <th>10</th>\n",
       "      <th>11</th>\n",
       "      <th>12</th>\n",
       "      <th>13</th>\n",
       "    </tr>\n",
       "  </thead>\n",
       "  <tbody>\n",
       "    <tr>\n",
       "      <th>0</th>\n",
       "      <td>ANGER</td>\n",
       "      <td>-6.169229</td>\n",
       "      <td>1.950252</td>\n",
       "      <td>0.869995</td>\n",
       "      <td>1.675251</td>\n",
       "      <td>-1.875391</td>\n",
       "      <td>-5.868158</td>\n",
       "      <td>-1.133908</td>\n",
       "      <td>-0.812982</td>\n",
       "      <td>-1.400094</td>\n",
       "      <td>0.919977</td>\n",
       "      <td>2.370052</td>\n",
       "      <td>-0.580244</td>\n",
       "      <td>1.268938</td>\n",
       "      <td>-3.921020</td>\n",
       "    </tr>\n",
       "    <tr>\n",
       "      <th>1</th>\n",
       "      <td>DISGUST</td>\n",
       "      <td>-0.995421</td>\n",
       "      <td>-0.239906</td>\n",
       "      <td>1.611559</td>\n",
       "      <td>0.336935</td>\n",
       "      <td>4.135275</td>\n",
       "      <td>3.166666</td>\n",
       "      <td>4.861360</td>\n",
       "      <td>-1.029528</td>\n",
       "      <td>-0.595583</td>\n",
       "      <td>0.703482</td>\n",
       "      <td>0.465831</td>\n",
       "      <td>1.691313</td>\n",
       "      <td>2.166241</td>\n",
       "      <td>-0.145764</td>\n",
       "    </tr>\n",
       "    <tr>\n",
       "      <th>2</th>\n",
       "      <td>FEAR</td>\n",
       "      <td>-0.307879</td>\n",
       "      <td>1.935375</td>\n",
       "      <td>2.324991</td>\n",
       "      <td>-1.249236</td>\n",
       "      <td>-1.853333</td>\n",
       "      <td>-0.191947</td>\n",
       "      <td>18.512648</td>\n",
       "      <td>-20.561207</td>\n",
       "      <td>-10.408899</td>\n",
       "      <td>-10.164346</td>\n",
       "      <td>-0.457810</td>\n",
       "      <td>0.512514</td>\n",
       "      <td>-24.128773</td>\n",
       "      <td>7.561689</td>\n",
       "    </tr>\n",
       "    <tr>\n",
       "      <th>3</th>\n",
       "      <td>HAPPY</td>\n",
       "      <td>0.069822</td>\n",
       "      <td>-0.195963</td>\n",
       "      <td>-3.095874</td>\n",
       "      <td>-0.569155</td>\n",
       "      <td>1.024535</td>\n",
       "      <td>0.287241</td>\n",
       "      <td>6.174894</td>\n",
       "      <td>-1.301901</td>\n",
       "      <td>1.123636</td>\n",
       "      <td>-2.840091</td>\n",
       "      <td>0.763647</td>\n",
       "      <td>-1.194705</td>\n",
       "      <td>4.926014</td>\n",
       "      <td>-0.050853</td>\n",
       "    </tr>\n",
       "    <tr>\n",
       "      <th>4</th>\n",
       "      <td>SADNESS</td>\n",
       "      <td>-2.474528</td>\n",
       "      <td>1.204825</td>\n",
       "      <td>1.299265</td>\n",
       "      <td>1.815369</td>\n",
       "      <td>-0.546571</td>\n",
       "      <td>-10.830917</td>\n",
       "      <td>0.998251</td>\n",
       "      <td>-1.045441</td>\n",
       "      <td>-0.933369</td>\n",
       "      <td>-2.290365</td>\n",
       "      <td>1.555919</td>\n",
       "      <td>3.100082</td>\n",
       "      <td>0.404349</td>\n",
       "      <td>-2.790775</td>\n",
       "    </tr>\n",
       "  </tbody>\n",
       "</table>\n",
       "</div>"
      ],
      "text/plain": [
       "     Label         0         1         2         3         4          5  \\\n",
       "0    ANGER -6.169229  1.950252  0.869995  1.675251 -1.875391  -5.868158   \n",
       "1  DISGUST -0.995421 -0.239906  1.611559  0.336935  4.135275   3.166666   \n",
       "2     FEAR -0.307879  1.935375  2.324991 -1.249236 -1.853333  -0.191947   \n",
       "3    HAPPY  0.069822 -0.195963 -3.095874 -0.569155  1.024535   0.287241   \n",
       "4  SADNESS -2.474528  1.204825  1.299265  1.815369 -0.546571 -10.830917   \n",
       "\n",
       "           6          7          8          9        10        11         12  \\\n",
       "0  -1.133908  -0.812982  -1.400094   0.919977  2.370052 -0.580244   1.268938   \n",
       "1   4.861360  -1.029528  -0.595583   0.703482  0.465831  1.691313   2.166241   \n",
       "2  18.512648 -20.561207 -10.408899 -10.164346 -0.457810  0.512514 -24.128773   \n",
       "3   6.174894  -1.301901   1.123636  -2.840091  0.763647 -1.194705   4.926014   \n",
       "4   0.998251  -1.045441  -0.933369  -2.290365  1.555919  3.100082   0.404349   \n",
       "\n",
       "         13  \n",
       "0 -3.921020  \n",
       "1 -0.145764  \n",
       "2  7.561689  \n",
       "3 -0.050853  \n",
       "4 -2.790775  "
      ]
     },
     "execution_count": 13,
     "metadata": {},
     "output_type": "execute_result"
    }
   ],
   "source": [
    "from sklearn import manifold\n",
    "\n",
    "tsne = manifold.TSNE(n_components=14, init='pca', random_state=0, method='exact')\n",
    "tsne_components = tsne.fit_transform(values)\n",
    "tsne_df = pd.DataFrame(data = tsne_components)\n",
    "# Add the label to the dataframe with the TSNE components\n",
    "tsne_labels_df = pd.concat([distance_df[['Label']], tsne_df], axis = 1)\n",
    "tsne_labels_df.head()"
   ]
  },
  {
   "cell_type": "markdown",
   "metadata": {},
   "source": [
    "Visualize the TSNE 2d projection"
   ]
  },
  {
   "cell_type": "code",
   "execution_count": 14,
   "metadata": {},
   "outputs": [
    {
     "data": {
      "image/png": "[encoded data removed]",
      "text/plain": [
       "<matplotlib.figure.Figure at 0x111dc2898>"
      ]
     },
     "metadata": {},
     "output_type": "display_data"
    }
   ],
   "source": [
    "plt.scatter(tsne_components[:,0], tsne_components[:,1], c=colors, s=50)\n",
    "plt.show()"
   ]
  },
  {
   "cell_type": "markdown",
   "metadata": {},
   "source": [
    "## Label Distribution"
   ]
  },
  {
   "cell_type": "markdown",
   "metadata": {},
   "source": [
    "TODO: Describe why this is important (i.e. make sure we train the models with the same number of samples per label)"
   ]
  },
  {
   "cell_type": "code",
   "execution_count": 15,
   "metadata": {},
   "outputs": [
    {
     "name": "stdout",
     "output_type": "stream",
     "text": [
      "           0    1    2    3    4    5    6    7    8    9    10   11   12   13\n",
      "Label                                                                         \n",
      "ANGER      71   71   71   71   71   71   71   71   71   71   71   71   71   71\n",
      "DISGUST    69   69   69   69   69   69   69   69   69   69   69   69   69   69\n",
      "FEAR       70   70   70   70   70   70   70   70   70   70   70   70   70   70\n",
      "HAPPY     106  106  106  106  106  106  106  106  106  106  106  106  106  106\n",
      "SADNESS    66   66   66   66   66   66   66   66   66   66   66   66   66   66\n",
      "SURPRISE   71   71   71   71   71   71   71   71   71   71   71   71   71   71\n",
      "Total number of inputs: 453\n"
     ]
    }
   ],
   "source": [
    "rows, cols = tsne_labels_df.shape\n",
    "print(tsne_labels_df.groupby('Label').count())\n",
    "print('Total number of inputs: %s' % rows)"
   ]
  },
  {
   "cell_type": "markdown",
   "metadata": {},
   "source": [
    "TODO: Explain output from above (i.e. from the table above we can see that some emotions have more samples than others, this is a problem because...)"
   ]
  },
  {
   "cell_type": "markdown",
   "metadata": {},
   "source": [
    "#### Data Split"
   ]
  },
  {
   "cell_type": "markdown",
   "metadata": {},
   "source": [
    "TODO: Describe how we are using holdout to account for class imbalance and the 80/20 partition as well"
   ]
  },
  {
   "cell_type": "code",
   "execution_count": 16,
   "metadata": {},
   "outputs": [],
   "source": [
    "def get_train_test_split(df):\n",
    "    '''\n",
    "    Split data into training and test sets\n",
    "    '''\n",
    "    # Shuffle data frame\n",
    "    df = df.sample(frac=1)\n",
    "    \n",
    "    # Select same number of samples per class for train set, remaining go to test set\n",
    "    num_of_train_inputs = int(rows * 0.8 / 6)\n",
    "    train_df, test_df = (pd.DataFrame(columns=df.columns.values), pd.DataFrame(columns=df.columns.values))\n",
    "    for x in targets:\n",
    "        train_df = train_df.append(df.loc[df['Label'] == x][0:num_of_train_inputs], ignore_index=True)\n",
    "        test_df = test_df.append(df.loc[df['Label'] == x][num_of_train_inputs:], ignore_index=True)\n",
    "\n",
    "    # Shuffle data frames (becuase they were appended in a per label fashion)\n",
    "    train_df = train_df.sample(frac=1)\n",
    "    test_df = test_df.sample(frac=1)\n",
    "    \n",
    "    # Split train and test datasets into labels/features\n",
    "    train_values   = train_df.iloc[:,1:].values\n",
    "    train_labels = train_df.iloc[:,:1].values.ravel()\n",
    "\n",
    "    test_values   = test_df.iloc[:,1:].values\n",
    "    test_labels = test_df.iloc[:,:1].values.ravel()\n",
    "    \n",
    "    return (train_values, train_labels, test_values, test_labels)"
   ]
  },
  {
   "cell_type": "markdown",
   "metadata": {},
   "source": [
    "## Methods"
   ]
  },
  {
   "cell_type": "markdown",
   "metadata": {},
   "source": [
    "#### k-Nearest Neighbors (kNN)"
   ]
  },
  {
   "cell_type": "markdown",
   "metadata": {},
   "source": [
    "TODO: Describe what kNN is and its hyper-parameters"
   ]
  },
  {
   "cell_type": "markdown",
   "metadata": {},
   "source": [
    "TODO: Explain choice of hyper-parameters (``n_neighbors``)"
   ]
  },
  {
   "cell_type": "markdown",
   "metadata": {},
   "source": [
    "TODO: In the experiments below, we also need to print the confusion matrix and confidence scores (for both the PCA and TSNE)"
   ]
  },
  {
   "cell_type": "markdown",
   "metadata": {},
   "source": [
    "Create a kNN model using the PCA components"
   ]
  },
  {
   "cell_type": "code",
   "execution_count": 17,
   "metadata": {},
   "outputs": [
    {
     "name": "stdout",
     "output_type": "stream",
     "text": [
      "kNN classifier accuracy using PCA components: \t0.34%\n"
     ]
    }
   ],
   "source": [
    "from sklearn import neighbors\n",
    "from sklearn.metrics import accuracy_score\n",
    "\n",
    "# Get train/test values and labels using the PCA components\n",
    "train_values, train_labels, test_values, test_labels = get_train_test_split(principal_labels_df)\n",
    "\n",
    "kNNClassifier = neighbors.KNeighborsClassifier(n_neighbors=10).fit(train_values, train_labels)\n",
    "predicted_labels = kNNClassifier.predict(test_values)\n",
    "knn_pca_acc = accuracy_score(test_labels, predicted_labels)\n",
    "print('kNN classifier accuracy using PCA components: \\t%.02f%%' % knn_pca_acc)"
   ]
  },
  {
   "cell_type": "markdown",
   "metadata": {},
   "source": [
    "Create a kNN model using the TSNE components"
   ]
  },
  {
   "cell_type": "code",
   "execution_count": 18,
   "metadata": {},
   "outputs": [
    {
     "name": "stdout",
     "output_type": "stream",
     "text": [
      "kNN classifier accuracy using TSNE components: \t0.27%\n"
     ]
    }
   ],
   "source": [
    "# Get train/test values and labels using the TSNE components\n",
    "train_values, train_labels, test_values, test_labels = get_train_test_split(tsne_labels_df)\n",
    "\n",
    "kNNClassifier = neighbors.KNeighborsClassifier(n_neighbors=10).fit(train_values, train_labels)\n",
    "predicted_labels = kNNClassifier.predict(test_values)\n",
    "knn_tsne_acc = accuracy_score(test_labels, predicted_labels)\n",
    "print('kNN classifier accuracy using TSNE components: \\t%.02f%%' % knn_tsne_acc)"
   ]
  },
  {
   "cell_type": "markdown",
   "metadata": {},
   "source": [
    "#### Support Vector Machine (SVM)"
   ]
  },
  {
   "cell_type": "markdown",
   "metadata": {},
   "source": [
    "TODO: Describe what SVM is"
   ]
  },
  {
   "cell_type": "markdown",
   "metadata": {},
   "source": [
    "TODO: In the experiments below, we also need to print the confusion matrix and confidence scores (for both the PCA and TSNE)"
   ]
  },
  {
   "cell_type": "markdown",
   "metadata": {},
   "source": [
    "Create a SVM model using the PCA components"
   ]
  },
  {
   "cell_type": "code",
   "execution_count": 19,
   "metadata": {},
   "outputs": [
    {
     "name": "stdout",
     "output_type": "stream",
     "text": [
      "SVM classifier accuracy using PCA components: \t0.61%\n"
     ]
    }
   ],
   "source": [
    "from sklearn.svm import LinearSVC\n",
    "\n",
    "# Get train/test values and labels using the PCA components\n",
    "train_values, train_labels, test_values, test_labels = get_train_test_split(principal_labels_df)\n",
    "\n",
    "svm = LinearSVC()\n",
    "svm.fit(train_values, train_labels)\n",
    "predicted_labels = svm.predict(test_values)\n",
    "svm_pca_acc = accuracy_score(test_labels, predicted_labels)\n",
    "print('SVM classifier accuracy using PCA components: \\t%.02f%%' % svm_pca_acc)"
   ]
  },
  {
   "cell_type": "markdown",
   "metadata": {},
   "source": [
    "Create a SVM model using the TSNE components"
   ]
  },
  {
   "cell_type": "code",
   "execution_count": 20,
   "metadata": {},
   "outputs": [
    {
     "name": "stdout",
     "output_type": "stream",
     "text": [
      "SVM classifier accuracy using TSNE components: \t0.27%\n"
     ]
    }
   ],
   "source": [
    "# Get train/test values and labels using the TSNE components\n",
    "train_values, train_labels, test_values, test_labels = get_train_test_split(tsne_labels_df)\n",
    "\n",
    "svm = LinearSVC()\n",
    "svm.fit(train_values, train_labels)\n",
    "predicted_labels = svm.predict(test_values)\n",
    "svm_tsne_acc = accuracy_score(test_labels, predicted_labels)\n",
    "print('SVM classifier accuracy using TSNE components: \\t%.02f%%' % svm_tsne_acc)"
   ]
  },
  {
   "cell_type": "markdown",
   "metadata": {},
   "source": [
    "#### Multilayer Perceptron (MLP)"
   ]
  },
  {
   "cell_type": "markdown",
   "metadata": {},
   "source": [
    "TODO: Describe what a MLP is"
   ]
  },
  {
   "cell_type": "markdown",
   "metadata": {},
   "source": [
    "TODO: Explain choice of hyper-parameters (``solver``, ``activation``, ``hidden_layer_sizes``, and ``max_iter``) "
   ]
  },
  {
   "cell_type": "markdown",
   "metadata": {},
   "source": [
    "TODO: In the experiments below, we also need to print the confusion matrix and confidence scores (for both the PCA and TSNE)"
   ]
  },
  {
   "cell_type": "markdown",
   "metadata": {},
   "source": [
    "Create a MLP model using the PCA components"
   ]
  },
  {
   "cell_type": "code",
   "execution_count": 21,
   "metadata": {},
   "outputs": [
    {
     "name": "stdout",
     "output_type": "stream",
     "text": [
      "MLP classifier accuracy using PCA components: \t0.66%\n"
     ]
    },
    {
     "name": "stderr",
     "output_type": "stream",
     "text": [
      "/Users/diegocasmo/anaconda/lib/python3.6/site-packages/sklearn/neural_network/multilayer_perceptron.py:564: ConvergenceWarning: Stochastic Optimizer: Maximum iterations (200) reached and the optimization hasn't converged yet.\n",
      "  % self.max_iter, ConvergenceWarning)\n"
     ]
    }
   ],
   "source": [
    "from sklearn.neural_network import MLPClassifier\n",
    "\n",
    "# Get train/test values and labels using the PCA components\n",
    "train_values, train_labels, test_values, test_labels = get_train_test_split(principal_labels_df)\n",
    "\n",
    "mlp = MLPClassifier(solver='adam', activation='relu', hidden_layer_sizes=(21), max_iter=200)\n",
    "mlp.fit(train_values, train_labels)\n",
    "predicted_labels = mlp.predict(test_values)\n",
    "mlp_pca_acc = accuracy_score(test_labels, predicted_labels)\n",
    "print('MLP classifier accuracy using PCA components: \\t%.02f%%' % mlp_pca_acc)"
   ]
  },
  {
   "cell_type": "markdown",
   "metadata": {},
   "source": [
    "Create a MLP model using the TSNE components"
   ]
  },
  {
   "cell_type": "code",
   "execution_count": 22,
   "metadata": {},
   "outputs": [
    {
     "name": "stdout",
     "output_type": "stream",
     "text": [
      "MLP classifier accuracy using TSNE components: \t0.28%\n"
     ]
    },
    {
     "name": "stderr",
     "output_type": "stream",
     "text": [
      "/Users/diegocasmo/anaconda/lib/python3.6/site-packages/sklearn/neural_network/multilayer_perceptron.py:564: ConvergenceWarning: Stochastic Optimizer: Maximum iterations (200) reached and the optimization hasn't converged yet.\n",
      "  % self.max_iter, ConvergenceWarning)\n"
     ]
    }
   ],
   "source": [
    "# Get train/test values and labels using the PCA components\n",
    "train_values, train_labels, test_values, test_labels = get_train_test_split(tsne_labels_df)\n",
    "\n",
    "mlp = MLPClassifier(solver='adam', activation='relu', hidden_layer_sizes=(21), max_iter=200)\n",
    "mlp.fit(train_values, train_labels)\n",
    "predicted_labels = mlp.predict(test_values)\n",
    "mlp_tsne_acc = accuracy_score(test_labels, predicted_labels)\n",
    "print('MLP classifier accuracy using TSNE components: \\t%.02f%%' % mlp_tsne_acc)"
   ]
  },
  {
   "cell_type": "markdown",
   "metadata": {},
   "source": [
    "#### Random Forest"
   ]
  },
  {
   "cell_type": "markdown",
   "metadata": {},
   "source": [
    "TODO: Describe what a Random Forest is"
   ]
  },
  {
   "cell_type": "markdown",
   "metadata": {},
   "source": [
    "TODO: Explain choice of hyper-parameters (``n_estimators``, ``n_jobs``, ``criterion``, ``oob_score``, ``max_depth``, ``max_features``, and ``min_samples_leaf``) "
   ]
  },
  {
   "cell_type": "markdown",
   "metadata": {},
   "source": [
    "TODO: In the experiments below, we also need to print the confusion matrix and confidence scores (for both the PCA and TSNE)"
   ]
  },
  {
   "cell_type": "markdown",
   "metadata": {},
   "source": [
    "Create a Random Forest model using the PCA components"
   ]
  },
  {
   "cell_type": "code",
   "execution_count": 23,
   "metadata": {},
   "outputs": [
    {
     "name": "stdout",
     "output_type": "stream",
     "text": [
      "Random Forest classifier accuracy using PCA components: \t0.60%\n"
     ]
    }
   ],
   "source": [
    "from sklearn.ensemble import RandomForestClassifier\n",
    "\n",
    "# Get train/test values and labels using the PCA components\n",
    "train_values, train_labels, test_values, test_labels = get_train_test_split(principal_labels_df)\n",
    "\n",
    "random_forest = RandomForestClassifier(n_estimators=200, n_jobs=1,criterion='gini',  oob_score = True, \n",
    "                                       max_depth=10, max_features='sqrt', min_samples_leaf = 1)\n",
    "random_forest.fit(train_values, train_labels)\n",
    "predicted_labels = random_forest.predict(test_values)\n",
    "random_forest_pca_acc = accuracy_score(test_labels, predicted_labels)\n",
    "print('Random Forest classifier accuracy using PCA components: \\t%.02f%%' % random_forest_pca_acc)"
   ]
  },
  {
   "cell_type": "markdown",
   "metadata": {},
   "source": [
    "Create a Random Forest model using the TSNE components"
   ]
  },
  {
   "cell_type": "code",
   "execution_count": 24,
   "metadata": {},
   "outputs": [
    {
     "name": "stdout",
     "output_type": "stream",
     "text": [
      "Random Forest classifier accuracy using TSNE components: \t0.23%\n"
     ]
    }
   ],
   "source": [
    "# Get train/test values and labels using the PCA components\n",
    "train_values, train_labels, test_values, test_labels = get_train_test_split(tsne_labels_df)\n",
    "\n",
    "random_forest = RandomForestClassifier(n_estimators=200, n_jobs=1,criterion='gini',  oob_score = True, \n",
    "                                       max_depth=10, max_features='sqrt', min_samples_leaf = 1)\n",
    "random_forest.fit(train_values, train_labels)\n",
    "predicted_labels = random_forest.predict(test_values)\n",
    "random_forest_tsne_acc = accuracy_score(test_labels, predicted_labels)\n",
    "print('Random Forest classifier accuracy using TSNE components: \\t%.02f%%' % random_forest_tsne_acc)"
   ]
  },
  {
   "cell_type": "markdown",
   "metadata": {},
   "source": [
    "## Conclusion"
   ]
  },
  {
   "cell_type": "markdown",
   "metadata": {},
   "source": [
    "TODO: Summary of our work and what configuration (model, PCA/TSNE, etc) produced the best results"
   ]
  },
  {
   "cell_type": "code",
   "execution_count": 25,
   "metadata": {},
   "outputs": [
    {
     "name": "stdout",
     "output_type": "stream",
     "text": [
      "kNN with PCA classifier accuracy: \t0.34%\n",
      "SVM with PCA classifier accuracy: \t0.61%\n",
      "MLP with PCA classifier accuracy: \t0.66%\n",
      "Random Forest with PCA classifier accuracy: \t0.60%\n"
     ]
    }
   ],
   "source": [
    "best_models = {\n",
    "    'kNN with PCA': knn_pca_acc,\n",
    "    'SVM with PCA': svm_pca_acc,\n",
    "    'MLP with PCA': mlp_pca_acc,\n",
    "    'Random Forest with PCA': random_forest_pca_acc\n",
    "}\n",
    "\n",
    "for model, acc in best_models.items():\n",
    "    print('%s classifier accuracy: \\t%.02f%%' % (model, acc))"
   ]
  }
 ],
 "metadata": {
  "kernelspec": {
   "display_name": "Python 3",
   "language": "python",
   "name": "python3"
  },
  "language_info": {
   "codemirror_mode": {
    "name": "ipython",
    "version": 3
   },
   "file_extension": ".py",
   "mimetype": "text/x-python",
   "name": "python",
   "nbconvert_exporter": "python",
   "pygments_lexer": "ipython3",
   "version": "3.6.4"
  }
 },
 "nbformat": 4,
 "nbformat_minor": 2
}
