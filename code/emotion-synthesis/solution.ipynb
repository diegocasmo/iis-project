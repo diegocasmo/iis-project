{
 "cells": [
  {
   "cell_type": "markdown",
   "metadata": {},
   "source": [
    "# Analysis and Classification of The Bosphorus Database"
   ]
  },
  {
   "cell_type": "markdown",
   "metadata": {},
   "source": [
    "TODO: Short description of dataset and the goal of the project"
   ]
  },
  {
   "cell_type": "markdown",
   "metadata": {},
   "source": [
    "TODO: Describe data pre-processing steps to create the ``.csv`` file"
   ]
  },
  {
   "cell_type": "markdown",
   "metadata": {},
   "source": [
    "## Load Dataset"
   ]
  },
  {
   "cell_type": "code",
   "execution_count": 1,
   "metadata": {},
   "outputs": [],
   "source": [
    "import pandas as pd\n",
    "\n",
    "data_df = pd.read_csv(r'../../data/lm3.csv')"
   ]
  },
  {
   "cell_type": "markdown",
   "metadata": {},
   "source": [
    "## Visualize Dataset Format and Number of Features"
   ]
  },
  {
   "cell_type": "markdown",
   "metadata": {},
   "source": [
    "TODO: description of the dataset format (i.e. each column represents a label in a particular dimension...)"
   ]
  },
  {
   "cell_type": "code",
   "execution_count": 2,
   "metadata": {},
   "outputs": [
    {
     "name": "stdout",
     "output_type": "stream",
     "text": [
      "Total number of features: \t79\n"
     ]
    },
    {
     "data": {
      "text/html": [
       "<div>\n",
       "<style scoped>\n",
       "    .dataframe tbody tr th:only-of-type {\n",
       "        vertical-align: middle;\n",
       "    }\n",
       "\n",
       "    .dataframe tbody tr th {\n",
       "        vertical-align: top;\n",
       "    }\n",
       "\n",
       "    .dataframe thead th {\n",
       "        text-align: right;\n",
       "    }\n",
       "</style>\n",
       "<table border=\"1\" class=\"dataframe\">\n",
       "  <thead>\n",
       "    <tr style=\"text-align: right;\">\n",
       "      <th></th>\n",
       "      <th>Label</th>\n",
       "      <th>Outer left eyebrow-x</th>\n",
       "      <th>Outer left eyebrow-y</th>\n",
       "      <th>Outer left eyebrow-z</th>\n",
       "      <th>Middle left eyebrow-x</th>\n",
       "      <th>Middle left eyebrow-y</th>\n",
       "      <th>Middle left eyebrow-z</th>\n",
       "      <th>Inner left eyebrow-x</th>\n",
       "      <th>Inner left eyebrow-y</th>\n",
       "      <th>Inner left eyebrow-z</th>\n",
       "      <th>...</th>\n",
       "      <th>Lower lip outer middle-z</th>\n",
       "      <th>Chin middle-x</th>\n",
       "      <th>Chin middle-y</th>\n",
       "      <th>Chin middle-z</th>\n",
       "      <th>Left ear lobe-x</th>\n",
       "      <th>Left ear lobe-y</th>\n",
       "      <th>Left ear lobe-z</th>\n",
       "      <th>Right ear lobe-x</th>\n",
       "      <th>Right ear lobe-y</th>\n",
       "      <th>Right ear lobe-z</th>\n",
       "    </tr>\n",
       "  </thead>\n",
       "  <tbody>\n",
       "    <tr>\n",
       "      <th>0</th>\n",
       "      <td>ANGER</td>\n",
       "      <td>-72.961</td>\n",
       "      <td>-1.725</td>\n",
       "      <td>22.958</td>\n",
       "      <td>-55.678</td>\n",
       "      <td>4.591</td>\n",
       "      <td>38.791</td>\n",
       "      <td>-31.920</td>\n",
       "      <td>-1.929</td>\n",
       "      <td>36.645</td>\n",
       "      <td>...</td>\n",
       "      <td>39.421</td>\n",
       "      <td>-9.840</td>\n",
       "      <td>-112.234</td>\n",
       "      <td>31.313</td>\n",
       "      <td>NaN</td>\n",
       "      <td>NaN</td>\n",
       "      <td>NaN</td>\n",
       "      <td>NaN</td>\n",
       "      <td>NaN</td>\n",
       "      <td>NaN</td>\n",
       "    </tr>\n",
       "    <tr>\n",
       "      <th>1</th>\n",
       "      <td>DISGUST</td>\n",
       "      <td>-76.565</td>\n",
       "      <td>-0.458</td>\n",
       "      <td>6.126</td>\n",
       "      <td>-62.086</td>\n",
       "      <td>9.454</td>\n",
       "      <td>24.055</td>\n",
       "      <td>-35.614</td>\n",
       "      <td>2.066</td>\n",
       "      <td>25.073</td>\n",
       "      <td>...</td>\n",
       "      <td>24.378</td>\n",
       "      <td>-13.583</td>\n",
       "      <td>-109.568</td>\n",
       "      <td>19.583</td>\n",
       "      <td>NaN</td>\n",
       "      <td>NaN</td>\n",
       "      <td>NaN</td>\n",
       "      <td>NaN</td>\n",
       "      <td>NaN</td>\n",
       "      <td>NaN</td>\n",
       "    </tr>\n",
       "    <tr>\n",
       "      <th>2</th>\n",
       "      <td>FEAR</td>\n",
       "      <td>-76.163</td>\n",
       "      <td>6.390</td>\n",
       "      <td>10.784</td>\n",
       "      <td>-57.083</td>\n",
       "      <td>16.865</td>\n",
       "      <td>30.162</td>\n",
       "      <td>-33.708</td>\n",
       "      <td>14.082</td>\n",
       "      <td>32.408</td>\n",
       "      <td>...</td>\n",
       "      <td>42.100</td>\n",
       "      <td>-13.020</td>\n",
       "      <td>-110.107</td>\n",
       "      <td>33.429</td>\n",
       "      <td>NaN</td>\n",
       "      <td>NaN</td>\n",
       "      <td>NaN</td>\n",
       "      <td>NaN</td>\n",
       "      <td>NaN</td>\n",
       "      <td>NaN</td>\n",
       "    </tr>\n",
       "    <tr>\n",
       "      <th>3</th>\n",
       "      <td>HAPPY</td>\n",
       "      <td>-72.140</td>\n",
       "      <td>8.896</td>\n",
       "      <td>9.353</td>\n",
       "      <td>-54.721</td>\n",
       "      <td>22.380</td>\n",
       "      <td>27.474</td>\n",
       "      <td>-29.789</td>\n",
       "      <td>15.802</td>\n",
       "      <td>28.937</td>\n",
       "      <td>...</td>\n",
       "      <td>38.018</td>\n",
       "      <td>-9.030</td>\n",
       "      <td>-97.687</td>\n",
       "      <td>36.058</td>\n",
       "      <td>NaN</td>\n",
       "      <td>NaN</td>\n",
       "      <td>NaN</td>\n",
       "      <td>NaN</td>\n",
       "      <td>NaN</td>\n",
       "      <td>NaN</td>\n",
       "    </tr>\n",
       "    <tr>\n",
       "      <th>4</th>\n",
       "      <td>SADNESS</td>\n",
       "      <td>-73.743</td>\n",
       "      <td>3.099</td>\n",
       "      <td>12.438</td>\n",
       "      <td>-58.607</td>\n",
       "      <td>15.144</td>\n",
       "      <td>29.381</td>\n",
       "      <td>-32.979</td>\n",
       "      <td>11.594</td>\n",
       "      <td>30.048</td>\n",
       "      <td>...</td>\n",
       "      <td>41.452</td>\n",
       "      <td>-10.731</td>\n",
       "      <td>-100.452</td>\n",
       "      <td>35.956</td>\n",
       "      <td>NaN</td>\n",
       "      <td>NaN</td>\n",
       "      <td>NaN</td>\n",
       "      <td>NaN</td>\n",
       "      <td>NaN</td>\n",
       "      <td>NaN</td>\n",
       "    </tr>\n",
       "  </tbody>\n",
       "</table>\n",
       "<p>5 rows × 79 columns</p>\n",
       "</div>"
      ],
      "text/plain": [
       "     Label  Outer left eyebrow-x  Outer left eyebrow-y  Outer left eyebrow-z  \\\n",
       "0    ANGER               -72.961                -1.725                22.958   \n",
       "1  DISGUST               -76.565                -0.458                 6.126   \n",
       "2     FEAR               -76.163                 6.390                10.784   \n",
       "3    HAPPY               -72.140                 8.896                 9.353   \n",
       "4  SADNESS               -73.743                 3.099                12.438   \n",
       "\n",
       "   Middle left eyebrow-x  Middle left eyebrow-y  Middle left eyebrow-z  \\\n",
       "0                -55.678                  4.591                 38.791   \n",
       "1                -62.086                  9.454                 24.055   \n",
       "2                -57.083                 16.865                 30.162   \n",
       "3                -54.721                 22.380                 27.474   \n",
       "4                -58.607                 15.144                 29.381   \n",
       "\n",
       "   Inner left eyebrow-x  Inner left eyebrow-y  Inner left eyebrow-z  \\\n",
       "0               -31.920                -1.929                36.645   \n",
       "1               -35.614                 2.066                25.073   \n",
       "2               -33.708                14.082                32.408   \n",
       "3               -29.789                15.802                28.937   \n",
       "4               -32.979                11.594                30.048   \n",
       "\n",
       "         ...         Lower lip outer middle-z  Chin middle-x  Chin middle-y  \\\n",
       "0        ...                           39.421         -9.840       -112.234   \n",
       "1        ...                           24.378        -13.583       -109.568   \n",
       "2        ...                           42.100        -13.020       -110.107   \n",
       "3        ...                           38.018         -9.030        -97.687   \n",
       "4        ...                           41.452        -10.731       -100.452   \n",
       "\n",
       "   Chin middle-z  Left ear lobe-x  Left ear lobe-y  Left ear lobe-z  \\\n",
       "0         31.313              NaN              NaN              NaN   \n",
       "1         19.583              NaN              NaN              NaN   \n",
       "2         33.429              NaN              NaN              NaN   \n",
       "3         36.058              NaN              NaN              NaN   \n",
       "4         35.956              NaN              NaN              NaN   \n",
       "\n",
       "   Right ear lobe-x  Right ear lobe-y  Right ear lobe-z  \n",
       "0               NaN               NaN               NaN  \n",
       "1               NaN               NaN               NaN  \n",
       "2               NaN               NaN               NaN  \n",
       "3               NaN               NaN               NaN  \n",
       "4               NaN               NaN               NaN  \n",
       "\n",
       "[5 rows x 79 columns]"
      ]
     },
     "execution_count": 2,
     "metadata": {},
     "output_type": "execute_result"
    }
   ],
   "source": [
    "print('Total number of features: \\t%s' % len(data_df.columns.values))\n",
    "data_df.head()"
   ]
  },
  {
   "cell_type": "markdown",
   "metadata": {},
   "source": [
    "## Data Cleansing"
   ]
  },
  {
   "cell_type": "markdown",
   "metadata": {},
   "source": [
    "#### Drop Features Where NaN Is Present"
   ]
  },
  {
   "cell_type": "code",
   "execution_count": 3,
   "metadata": {},
   "outputs": [
    {
     "name": "stdout",
     "output_type": "stream",
     "text": [
      "Total number of features before dropping NaN: \t79\n",
      "Total number of features after dropping NaN: \t58\n"
     ]
    },
    {
     "data": {
      "text/html": [
       "<div>\n",
       "<style scoped>\n",
       "    .dataframe tbody tr th:only-of-type {\n",
       "        vertical-align: middle;\n",
       "    }\n",
       "\n",
       "    .dataframe tbody tr th {\n",
       "        vertical-align: top;\n",
       "    }\n",
       "\n",
       "    .dataframe thead th {\n",
       "        text-align: right;\n",
       "    }\n",
       "</style>\n",
       "<table border=\"1\" class=\"dataframe\">\n",
       "  <thead>\n",
       "    <tr style=\"text-align: right;\">\n",
       "      <th></th>\n",
       "      <th>Label</th>\n",
       "      <th>Outer left eyebrow-x</th>\n",
       "      <th>Outer left eyebrow-y</th>\n",
       "      <th>Outer left eyebrow-z</th>\n",
       "      <th>Middle left eyebrow-x</th>\n",
       "      <th>Middle left eyebrow-y</th>\n",
       "      <th>Middle left eyebrow-z</th>\n",
       "      <th>Inner left eyebrow-x</th>\n",
       "      <th>Inner left eyebrow-y</th>\n",
       "      <th>Inner left eyebrow-z</th>\n",
       "      <th>...</th>\n",
       "      <th>Left mouth corner-z</th>\n",
       "      <th>Upper lip outer middle-x</th>\n",
       "      <th>Upper lip outer middle-y</th>\n",
       "      <th>Upper lip outer middle-z</th>\n",
       "      <th>Right mouth corner-x</th>\n",
       "      <th>Right mouth corner-y</th>\n",
       "      <th>Right mouth corner-z</th>\n",
       "      <th>Lower lip outer middle-x</th>\n",
       "      <th>Lower lip outer middle-y</th>\n",
       "      <th>Lower lip outer middle-z</th>\n",
       "    </tr>\n",
       "  </thead>\n",
       "  <tbody>\n",
       "    <tr>\n",
       "      <th>0</th>\n",
       "      <td>ANGER</td>\n",
       "      <td>-72.961</td>\n",
       "      <td>-1.725</td>\n",
       "      <td>22.958</td>\n",
       "      <td>-55.678</td>\n",
       "      <td>4.591</td>\n",
       "      <td>38.791</td>\n",
       "      <td>-31.920</td>\n",
       "      <td>-1.929</td>\n",
       "      <td>36.645</td>\n",
       "      <td>...</td>\n",
       "      <td>31.654</td>\n",
       "      <td>-11.424</td>\n",
       "      <td>-77.828</td>\n",
       "      <td>44.218</td>\n",
       "      <td>7.849</td>\n",
       "      <td>-78.691</td>\n",
       "      <td>29.980</td>\n",
       "      <td>-9.891</td>\n",
       "      <td>-86.283</td>\n",
       "      <td>39.421</td>\n",
       "    </tr>\n",
       "    <tr>\n",
       "      <th>1</th>\n",
       "      <td>DISGUST</td>\n",
       "      <td>-76.565</td>\n",
       "      <td>-0.458</td>\n",
       "      <td>6.126</td>\n",
       "      <td>-62.086</td>\n",
       "      <td>9.454</td>\n",
       "      <td>24.055</td>\n",
       "      <td>-35.614</td>\n",
       "      <td>2.066</td>\n",
       "      <td>25.073</td>\n",
       "      <td>...</td>\n",
       "      <td>6.895</td>\n",
       "      <td>-15.941</td>\n",
       "      <td>-66.863</td>\n",
       "      <td>29.844</td>\n",
       "      <td>14.277</td>\n",
       "      <td>-75.678</td>\n",
       "      <td>7.290</td>\n",
       "      <td>-15.118</td>\n",
       "      <td>-83.790</td>\n",
       "      <td>24.378</td>\n",
       "    </tr>\n",
       "    <tr>\n",
       "      <th>2</th>\n",
       "      <td>FEAR</td>\n",
       "      <td>-76.163</td>\n",
       "      <td>6.390</td>\n",
       "      <td>10.784</td>\n",
       "      <td>-57.083</td>\n",
       "      <td>16.865</td>\n",
       "      <td>30.162</td>\n",
       "      <td>-33.708</td>\n",
       "      <td>14.082</td>\n",
       "      <td>32.408</td>\n",
       "      <td>...</td>\n",
       "      <td>25.992</td>\n",
       "      <td>-12.448</td>\n",
       "      <td>-60.169</td>\n",
       "      <td>45.930</td>\n",
       "      <td>9.749</td>\n",
       "      <td>-73.120</td>\n",
       "      <td>25.172</td>\n",
       "      <td>-12.362</td>\n",
       "      <td>-84.124</td>\n",
       "      <td>42.100</td>\n",
       "    </tr>\n",
       "    <tr>\n",
       "      <th>3</th>\n",
       "      <td>HAPPY</td>\n",
       "      <td>-72.140</td>\n",
       "      <td>8.896</td>\n",
       "      <td>9.353</td>\n",
       "      <td>-54.721</td>\n",
       "      <td>22.380</td>\n",
       "      <td>27.474</td>\n",
       "      <td>-29.789</td>\n",
       "      <td>15.802</td>\n",
       "      <td>28.937</td>\n",
       "      <td>...</td>\n",
       "      <td>17.507</td>\n",
       "      <td>-7.999</td>\n",
       "      <td>-51.207</td>\n",
       "      <td>40.242</td>\n",
       "      <td>22.196</td>\n",
       "      <td>-56.737</td>\n",
       "      <td>12.908</td>\n",
       "      <td>-7.063</td>\n",
       "      <td>-69.995</td>\n",
       "      <td>38.018</td>\n",
       "    </tr>\n",
       "    <tr>\n",
       "      <th>4</th>\n",
       "      <td>SADNESS</td>\n",
       "      <td>-73.743</td>\n",
       "      <td>3.099</td>\n",
       "      <td>12.438</td>\n",
       "      <td>-58.607</td>\n",
       "      <td>15.144</td>\n",
       "      <td>29.381</td>\n",
       "      <td>-32.979</td>\n",
       "      <td>11.594</td>\n",
       "      <td>30.048</td>\n",
       "      <td>...</td>\n",
       "      <td>25.140</td>\n",
       "      <td>-11.017</td>\n",
       "      <td>-62.101</td>\n",
       "      <td>42.409</td>\n",
       "      <td>14.146</td>\n",
       "      <td>-67.281</td>\n",
       "      <td>23.486</td>\n",
       "      <td>-9.479</td>\n",
       "      <td>-74.060</td>\n",
       "      <td>41.452</td>\n",
       "    </tr>\n",
       "  </tbody>\n",
       "</table>\n",
       "<p>5 rows × 58 columns</p>\n",
       "</div>"
      ],
      "text/plain": [
       "     Label  Outer left eyebrow-x  Outer left eyebrow-y  Outer left eyebrow-z  \\\n",
       "0    ANGER               -72.961                -1.725                22.958   \n",
       "1  DISGUST               -76.565                -0.458                 6.126   \n",
       "2     FEAR               -76.163                 6.390                10.784   \n",
       "3    HAPPY               -72.140                 8.896                 9.353   \n",
       "4  SADNESS               -73.743                 3.099                12.438   \n",
       "\n",
       "   Middle left eyebrow-x  Middle left eyebrow-y  Middle left eyebrow-z  \\\n",
       "0                -55.678                  4.591                 38.791   \n",
       "1                -62.086                  9.454                 24.055   \n",
       "2                -57.083                 16.865                 30.162   \n",
       "3                -54.721                 22.380                 27.474   \n",
       "4                -58.607                 15.144                 29.381   \n",
       "\n",
       "   Inner left eyebrow-x  Inner left eyebrow-y  Inner left eyebrow-z  \\\n",
       "0               -31.920                -1.929                36.645   \n",
       "1               -35.614                 2.066                25.073   \n",
       "2               -33.708                14.082                32.408   \n",
       "3               -29.789                15.802                28.937   \n",
       "4               -32.979                11.594                30.048   \n",
       "\n",
       "             ...             Left mouth corner-z  Upper lip outer middle-x  \\\n",
       "0            ...                          31.654                   -11.424   \n",
       "1            ...                           6.895                   -15.941   \n",
       "2            ...                          25.992                   -12.448   \n",
       "3            ...                          17.507                    -7.999   \n",
       "4            ...                          25.140                   -11.017   \n",
       "\n",
       "   Upper lip outer middle-y  Upper lip outer middle-z  Right mouth corner-x  \\\n",
       "0                   -77.828                    44.218                 7.849   \n",
       "1                   -66.863                    29.844                14.277   \n",
       "2                   -60.169                    45.930                 9.749   \n",
       "3                   -51.207                    40.242                22.196   \n",
       "4                   -62.101                    42.409                14.146   \n",
       "\n",
       "   Right mouth corner-y  Right mouth corner-z  Lower lip outer middle-x  \\\n",
       "0               -78.691                29.980                    -9.891   \n",
       "1               -75.678                 7.290                   -15.118   \n",
       "2               -73.120                25.172                   -12.362   \n",
       "3               -56.737                12.908                    -7.063   \n",
       "4               -67.281                23.486                    -9.479   \n",
       "\n",
       "   Lower lip outer middle-y  Lower lip outer middle-z  \n",
       "0                   -86.283                    39.421  \n",
       "1                   -83.790                    24.378  \n",
       "2                   -84.124                    42.100  \n",
       "3                   -69.995                    38.018  \n",
       "4                   -74.060                    41.452  \n",
       "\n",
       "[5 rows x 58 columns]"
      ]
     },
     "execution_count": 3,
     "metadata": {},
     "output_type": "execute_result"
    }
   ],
   "source": [
    "print('Total number of features before dropping NaN: \\t%s' % len(data_df.columns.values))\n",
    "data_df = data_df.dropna(axis=1, how='any')\n",
    "print('Total number of features after dropping NaN: \\t%s' % len(data_df.columns.values))\n",
    "data_df.head()"
   ]
  },
  {
   "cell_type": "markdown",
   "metadata": {},
   "source": [
    "## Data Normalization"
   ]
  },
  {
   "cell_type": "markdown",
   "metadata": {},
   "source": [
    "TODO: Describe why are we doing this"
   ]
  },
  {
   "cell_type": "code",
   "execution_count": 4,
   "metadata": {},
   "outputs": [],
   "source": [
    "from sklearn.preprocessing import normalize\n",
    "\n",
    "# Separate features from their labels\n",
    "features = [x != 'Label' for x in data_df.columns.values]\n",
    "all_values = data_df.loc[:, features].values\n",
    "all_labels = data_df.loc[:,['Label']].values\n",
    "\n",
    "# Scale values (mean = 0 and variance = 1)\n",
    "all_values =  normalize(all_values, axis=0)"
   ]
  },
  {
   "cell_type": "markdown",
   "metadata": {},
   "source": [
    "## Dimensionality Reduction"
   ]
  },
  {
   "cell_type": "markdown",
   "metadata": {},
   "source": [
    "TODO: Describe what dimensionality reduction is and why is it necessary"
   ]
  },
  {
   "cell_type": "markdown",
   "metadata": {},
   "source": [
    "#### PCA"
   ]
  },
  {
   "cell_type": "markdown",
   "metadata": {},
   "source": [
    "TODO: Describe what PCA is"
   ]
  },
  {
   "cell_type": "code",
   "execution_count": 5,
   "metadata": {},
   "outputs": [
    {
     "data": {
      "text/html": [
       "<div>\n",
       "<style scoped>\n",
       "    .dataframe tbody tr th:only-of-type {\n",
       "        vertical-align: middle;\n",
       "    }\n",
       "\n",
       "    .dataframe tbody tr th {\n",
       "        vertical-align: top;\n",
       "    }\n",
       "\n",
       "    .dataframe thead th {\n",
       "        text-align: right;\n",
       "    }\n",
       "</style>\n",
       "<table border=\"1\" class=\"dataframe\">\n",
       "  <thead>\n",
       "    <tr style=\"text-align: right;\">\n",
       "      <th></th>\n",
       "      <th>Label</th>\n",
       "      <th>0</th>\n",
       "      <th>1</th>\n",
       "      <th>2</th>\n",
       "      <th>3</th>\n",
       "      <th>4</th>\n",
       "      <th>5</th>\n",
       "      <th>6</th>\n",
       "      <th>7</th>\n",
       "      <th>8</th>\n",
       "      <th>9</th>\n",
       "      <th>10</th>\n",
       "      <th>11</th>\n",
       "      <th>12</th>\n",
       "      <th>13</th>\n",
       "      <th>14</th>\n",
       "    </tr>\n",
       "  </thead>\n",
       "  <tbody>\n",
       "    <tr>\n",
       "      <th>0</th>\n",
       "      <td>ANGER</td>\n",
       "      <td>0.115475</td>\n",
       "      <td>-1.625148</td>\n",
       "      <td>0.065469</td>\n",
       "      <td>0.114193</td>\n",
       "      <td>0.079739</td>\n",
       "      <td>1.031041</td>\n",
       "      <td>0.012079</td>\n",
       "      <td>-1.347167</td>\n",
       "      <td>0.986494</td>\n",
       "      <td>-1.195390</td>\n",
       "      <td>0.651152</td>\n",
       "      <td>0.667144</td>\n",
       "      <td>0.192260</td>\n",
       "      <td>-0.155829</td>\n",
       "      <td>1.118665</td>\n",
       "    </tr>\n",
       "    <tr>\n",
       "      <th>1</th>\n",
       "      <td>DISGUST</td>\n",
       "      <td>-0.073101</td>\n",
       "      <td>-1.483717</td>\n",
       "      <td>-0.133564</td>\n",
       "      <td>0.055333</td>\n",
       "      <td>-0.678214</td>\n",
       "      <td>0.639631</td>\n",
       "      <td>-0.328855</td>\n",
       "      <td>0.177782</td>\n",
       "      <td>-0.213121</td>\n",
       "      <td>-0.851841</td>\n",
       "      <td>-0.389660</td>\n",
       "      <td>0.403289</td>\n",
       "      <td>0.369033</td>\n",
       "      <td>-0.233596</td>\n",
       "      <td>0.912007</td>\n",
       "    </tr>\n",
       "    <tr>\n",
       "      <th>2</th>\n",
       "      <td>FEAR</td>\n",
       "      <td>0.061006</td>\n",
       "      <td>-1.113592</td>\n",
       "      <td>-0.500768</td>\n",
       "      <td>-0.805798</td>\n",
       "      <td>0.354913</td>\n",
       "      <td>0.951869</td>\n",
       "      <td>-0.296006</td>\n",
       "      <td>-0.947259</td>\n",
       "      <td>0.924113</td>\n",
       "      <td>-0.253905</td>\n",
       "      <td>0.758371</td>\n",
       "      <td>0.233441</td>\n",
       "      <td>0.275224</td>\n",
       "      <td>-0.997149</td>\n",
       "      <td>0.880709</td>\n",
       "    </tr>\n",
       "    <tr>\n",
       "      <th>3</th>\n",
       "      <td>HAPPY</td>\n",
       "      <td>0.122492</td>\n",
       "      <td>-0.808946</td>\n",
       "      <td>-0.375718</td>\n",
       "      <td>0.094078</td>\n",
       "      <td>-0.797231</td>\n",
       "      <td>0.172728</td>\n",
       "      <td>-1.712192</td>\n",
       "      <td>0.133741</td>\n",
       "      <td>-0.739601</td>\n",
       "      <td>-1.063692</td>\n",
       "      <td>0.370619</td>\n",
       "      <td>0.576226</td>\n",
       "      <td>0.477188</td>\n",
       "      <td>-0.323621</td>\n",
       "      <td>-0.051475</td>\n",
       "    </tr>\n",
       "    <tr>\n",
       "      <th>4</th>\n",
       "      <td>SADNESS</td>\n",
       "      <td>0.079619</td>\n",
       "      <td>-1.151237</td>\n",
       "      <td>-0.303649</td>\n",
       "      <td>-0.640826</td>\n",
       "      <td>-0.257518</td>\n",
       "      <td>0.543922</td>\n",
       "      <td>-1.133558</td>\n",
       "      <td>-0.789340</td>\n",
       "      <td>0.129232</td>\n",
       "      <td>-0.789671</td>\n",
       "      <td>0.986112</td>\n",
       "      <td>0.462523</td>\n",
       "      <td>-0.489619</td>\n",
       "      <td>-0.546546</td>\n",
       "      <td>0.819136</td>\n",
       "    </tr>\n",
       "  </tbody>\n",
       "</table>\n",
       "</div>"
      ],
      "text/plain": [
       "     Label         0         1         2         3         4         5  \\\n",
       "0    ANGER  0.115475 -1.625148  0.065469  0.114193  0.079739  1.031041   \n",
       "1  DISGUST -0.073101 -1.483717 -0.133564  0.055333 -0.678214  0.639631   \n",
       "2     FEAR  0.061006 -1.113592 -0.500768 -0.805798  0.354913  0.951869   \n",
       "3    HAPPY  0.122492 -0.808946 -0.375718  0.094078 -0.797231  0.172728   \n",
       "4  SADNESS  0.079619 -1.151237 -0.303649 -0.640826 -0.257518  0.543922   \n",
       "\n",
       "          6         7         8         9        10        11        12  \\\n",
       "0  0.012079 -1.347167  0.986494 -1.195390  0.651152  0.667144  0.192260   \n",
       "1 -0.328855  0.177782 -0.213121 -0.851841 -0.389660  0.403289  0.369033   \n",
       "2 -0.296006 -0.947259  0.924113 -0.253905  0.758371  0.233441  0.275224   \n",
       "3 -1.712192  0.133741 -0.739601 -1.063692  0.370619  0.576226  0.477188   \n",
       "4 -1.133558 -0.789340  0.129232 -0.789671  0.986112  0.462523 -0.489619   \n",
       "\n",
       "         13        14  \n",
       "0 -0.155829  1.118665  \n",
       "1 -0.233596  0.912007  \n",
       "2 -0.997149  0.880709  \n",
       "3 -0.323621 -0.051475  \n",
       "4 -0.546546  0.819136  "
      ]
     },
     "execution_count": 5,
     "metadata": {},
     "output_type": "execute_result"
    }
   ],
   "source": [
    "# Use PCA to reduce dimensionality\n",
    "from sklearn.decomposition import PCA\n",
    "\n",
    "pca = PCA(n_components = 15, whiten = True)\n",
    "principal_components = pca.fit_transform(all_values)\n",
    "principal_df = pd.DataFrame(data = principal_components)\n",
    "# Add the label to the dataframe with the principal components\n",
    "principal_labels_df = pd.concat([data_df[['Label']], principal_df], axis = 1)\n",
    "principal_labels_df.head()"
   ]
  },
  {
   "cell_type": "markdown",
   "metadata": {},
   "source": [
    "Visualize the PCA 2d projection"
   ]
  },
  {
   "cell_type": "code",
   "execution_count": 21,
   "metadata": {},
   "outputs": [
    {
     "data": {
      "image/png": "[encoded data removed]",
      "text/plain": [
       "<matplotlib.figure.Figure at 0x1a1b195438>"
      ]
     },
     "metadata": {},
     "output_type": "display_data"
    }
   ],
   "source": [
    "import matplotlib.pyplot as plt\n",
    "import numpy as np\n",
    "\n",
    "fig = plt.figure(figsize = (5,5))\n",
    "ax = fig.add_subplot(1,1,1) \n",
    "x_label = principal_labels_df.columns.values[1]\n",
    "y_label = principal_labels_df.columns.values[2]\n",
    "ax.set_xlabel(x_label, fontsize = 12)\n",
    "ax.set_ylabel(y_label, fontsize = 12)\n",
    "ax.set_title('3 Components PCA', fontsize = 15)\n",
    "\n",
    "labels = np.unique(data_df.loc[:,['Label']].values)\n",
    "colors = ['b', 'g', 'r', 'c', 'm', 'y']\n",
    "for label, color in zip(labels, colors):\n",
    "    indexes_to_keep = principal_labels_df['Label'] == label\n",
    "    ax.scatter(\n",
    "        principal_labels_df.loc[indexes_to_keep, x_label],\n",
    "        principal_labels_df.loc[indexes_to_keep, y_label],\n",
    "        c = color,\n",
    "        s = 50\n",
    "    )\n",
    "ax.legend(labels)\n",
    "ax.grid()\n",
    "plt.show()"
   ]
  },
  {
   "cell_type": "markdown",
   "metadata": {},
   "source": [
    "#### TSNE"
   ]
  },
  {
   "cell_type": "markdown",
   "metadata": {},
   "source": [
    "TODO: Describe what TSNE is"
   ]
  },
  {
   "cell_type": "code",
   "execution_count": 7,
   "metadata": {},
   "outputs": [
    {
     "data": {
      "text/html": [
       "<div>\n",
       "<style scoped>\n",
       "    .dataframe tbody tr th:only-of-type {\n",
       "        vertical-align: middle;\n",
       "    }\n",
       "\n",
       "    .dataframe tbody tr th {\n",
       "        vertical-align: top;\n",
       "    }\n",
       "\n",
       "    .dataframe thead th {\n",
       "        text-align: right;\n",
       "    }\n",
       "</style>\n",
       "<table border=\"1\" class=\"dataframe\">\n",
       "  <thead>\n",
       "    <tr style=\"text-align: right;\">\n",
       "      <th></th>\n",
       "      <th>Label</th>\n",
       "      <th>0</th>\n",
       "      <th>1</th>\n",
       "      <th>2</th>\n",
       "      <th>3</th>\n",
       "      <th>4</th>\n",
       "      <th>5</th>\n",
       "      <th>6</th>\n",
       "      <th>7</th>\n",
       "      <th>8</th>\n",
       "      <th>9</th>\n",
       "      <th>10</th>\n",
       "      <th>11</th>\n",
       "      <th>12</th>\n",
       "      <th>13</th>\n",
       "      <th>14</th>\n",
       "    </tr>\n",
       "  </thead>\n",
       "  <tbody>\n",
       "    <tr>\n",
       "      <th>0</th>\n",
       "      <td>ANGER</td>\n",
       "      <td>2.366467</td>\n",
       "      <td>-5.952292</td>\n",
       "      <td>-5.817704</td>\n",
       "      <td>-0.516321</td>\n",
       "      <td>1.900749</td>\n",
       "      <td>-2.829597</td>\n",
       "      <td>-1.550068</td>\n",
       "      <td>-1.179924</td>\n",
       "      <td>2.064284</td>\n",
       "      <td>1.588390</td>\n",
       "      <td>1.871071</td>\n",
       "      <td>-0.678025</td>\n",
       "      <td>0.260862</td>\n",
       "      <td>6.342507</td>\n",
       "      <td>-0.145513</td>\n",
       "    </tr>\n",
       "    <tr>\n",
       "      <th>1</th>\n",
       "      <td>DISGUST</td>\n",
       "      <td>-0.553080</td>\n",
       "      <td>-8.393978</td>\n",
       "      <td>-5.530555</td>\n",
       "      <td>1.159727</td>\n",
       "      <td>3.700656</td>\n",
       "      <td>-4.151265</td>\n",
       "      <td>1.055790</td>\n",
       "      <td>-2.096505</td>\n",
       "      <td>4.206555</td>\n",
       "      <td>0.349276</td>\n",
       "      <td>3.538473</td>\n",
       "      <td>-1.545040</td>\n",
       "      <td>0.333859</td>\n",
       "      <td>0.354309</td>\n",
       "      <td>-1.023844</td>\n",
       "    </tr>\n",
       "    <tr>\n",
       "      <th>2</th>\n",
       "      <td>FEAR</td>\n",
       "      <td>27.137568</td>\n",
       "      <td>19.613581</td>\n",
       "      <td>-17.228455</td>\n",
       "      <td>0.163092</td>\n",
       "      <td>12.801679</td>\n",
       "      <td>11.829565</td>\n",
       "      <td>-3.108263</td>\n",
       "      <td>-16.574970</td>\n",
       "      <td>-30.612078</td>\n",
       "      <td>-0.751934</td>\n",
       "      <td>2.418499</td>\n",
       "      <td>-0.084304</td>\n",
       "      <td>-1.737079</td>\n",
       "      <td>1.558778</td>\n",
       "      <td>-0.953803</td>\n",
       "    </tr>\n",
       "    <tr>\n",
       "      <th>3</th>\n",
       "      <td>HAPPY</td>\n",
       "      <td>1.087585</td>\n",
       "      <td>-4.325572</td>\n",
       "      <td>-1.411307</td>\n",
       "      <td>-1.658222</td>\n",
       "      <td>0.399386</td>\n",
       "      <td>-1.429610</td>\n",
       "      <td>0.380368</td>\n",
       "      <td>4.122686</td>\n",
       "      <td>0.704613</td>\n",
       "      <td>0.050273</td>\n",
       "      <td>0.743142</td>\n",
       "      <td>-0.176219</td>\n",
       "      <td>0.150796</td>\n",
       "      <td>0.495435</td>\n",
       "      <td>7.570835</td>\n",
       "    </tr>\n",
       "    <tr>\n",
       "      <th>4</th>\n",
       "      <td>SADNESS</td>\n",
       "      <td>-0.581712</td>\n",
       "      <td>-7.353347</td>\n",
       "      <td>-2.013272</td>\n",
       "      <td>-3.199156</td>\n",
       "      <td>1.728881</td>\n",
       "      <td>-2.171417</td>\n",
       "      <td>-3.087746</td>\n",
       "      <td>-0.166789</td>\n",
       "      <td>1.612997</td>\n",
       "      <td>-0.269918</td>\n",
       "      <td>2.642377</td>\n",
       "      <td>0.811108</td>\n",
       "      <td>0.299304</td>\n",
       "      <td>1.669997</td>\n",
       "      <td>3.405343</td>\n",
       "    </tr>\n",
       "  </tbody>\n",
       "</table>\n",
       "</div>"
      ],
      "text/plain": [
       "     Label          0          1          2         3          4          5  \\\n",
       "0    ANGER   2.366467  -5.952292  -5.817704 -0.516321   1.900749  -2.829597   \n",
       "1  DISGUST  -0.553080  -8.393978  -5.530555  1.159727   3.700656  -4.151265   \n",
       "2     FEAR  27.137568  19.613581 -17.228455  0.163092  12.801679  11.829565   \n",
       "3    HAPPY   1.087585  -4.325572  -1.411307 -1.658222   0.399386  -1.429610   \n",
       "4  SADNESS  -0.581712  -7.353347  -2.013272 -3.199156   1.728881  -2.171417   \n",
       "\n",
       "          6          7          8         9        10        11        12  \\\n",
       "0 -1.550068  -1.179924   2.064284  1.588390  1.871071 -0.678025  0.260862   \n",
       "1  1.055790  -2.096505   4.206555  0.349276  3.538473 -1.545040  0.333859   \n",
       "2 -3.108263 -16.574970 -30.612078 -0.751934  2.418499 -0.084304 -1.737079   \n",
       "3  0.380368   4.122686   0.704613  0.050273  0.743142 -0.176219  0.150796   \n",
       "4 -3.087746  -0.166789   1.612997 -0.269918  2.642377  0.811108  0.299304   \n",
       "\n",
       "         13        14  \n",
       "0  6.342507 -0.145513  \n",
       "1  0.354309 -1.023844  \n",
       "2  1.558778 -0.953803  \n",
       "3  0.495435  7.570835  \n",
       "4  1.669997  3.405343  "
      ]
     },
     "execution_count": 7,
     "metadata": {},
     "output_type": "execute_result"
    }
   ],
   "source": [
    "from sklearn import manifold\n",
    "\n",
    "tsne = manifold.TSNE(n_components = 15, init = 'pca', random_state = 0, method='exact')\n",
    "tsne_components = tsne.fit_transform(all_values)\n",
    "tsne_df = pd.DataFrame(data = tsne_components)\n",
    "# Add the label to the dataframe with the TSNE components\n",
    "tsne_labels_df = pd.concat([data_df[['Label']], tsne_df], axis = 1)\n",
    "tsne_labels_df.head()"
   ]
  },
  {
   "cell_type": "markdown",
   "metadata": {},
   "source": [
    "Visualize the TSNE 2d projection"
   ]
  },
  {
   "cell_type": "code",
   "execution_count": 8,
   "metadata": {},
   "outputs": [
    {
     "data": {
      "image/png": "[encoded data removed]",
      "text/plain": [
       "<matplotlib.figure.Figure at 0x10bd76940>"
      ]
     },
     "metadata": {},
     "output_type": "display_data"
    }
   ],
   "source": [
    "plt.scatter(tsne_components[:,0], tsne_components[:,1], c=colors, s=50)\n",
    "plt.show()"
   ]
  },
  {
   "cell_type": "markdown",
   "metadata": {},
   "source": [
    "## Label Distribution"
   ]
  },
  {
   "cell_type": "markdown",
   "metadata": {},
   "source": [
    "TODO: Describe why this is important (i.e. make sure we train the models with the same number of samples per label)"
   ]
  },
  {
   "cell_type": "code",
   "execution_count": 9,
   "metadata": {},
   "outputs": [
    {
     "name": "stdout",
     "output_type": "stream",
     "text": [
      "           0    1    2    3    4    5    6    7    8    9    10   11   12  \\\n",
      "Label                                                                       \n",
      "ANGER      71   71   71   71   71   71   71   71   71   71   71   71   71   \n",
      "DISGUST    69   69   69   69   69   69   69   69   69   69   69   69   69   \n",
      "FEAR       70   70   70   70   70   70   70   70   70   70   70   70   70   \n",
      "HAPPY     106  106  106  106  106  106  106  106  106  106  106  106  106   \n",
      "SADNESS    66   66   66   66   66   66   66   66   66   66   66   66   66   \n",
      "SURPRISE   71   71   71   71   71   71   71   71   71   71   71   71   71   \n",
      "\n",
      "           13   14  \n",
      "Label               \n",
      "ANGER      71   71  \n",
      "DISGUST    69   69  \n",
      "FEAR       70   70  \n",
      "HAPPY     106  106  \n",
      "SADNESS    66   66  \n",
      "SURPRISE   71   71  \n",
      "Total number of inputs: 453\n"
     ]
    }
   ],
   "source": [
    "rows, cols = tsne_labels_df.shape\n",
    "print(tsne_labels_df.groupby('Label').count())\n",
    "print('Total number of inputs: %s' % rows)"
   ]
  },
  {
   "cell_type": "markdown",
   "metadata": {},
   "source": [
    "TODO: Explain output from above (i.e. from the table above we can see that some emotions have more samples than others, this is a problem because...)"
   ]
  },
  {
   "cell_type": "markdown",
   "metadata": {},
   "source": [
    "#### Data Split"
   ]
  },
  {
   "cell_type": "markdown",
   "metadata": {},
   "source": [
    "TODO: Describe how we are using holdout to account for class imbalance and the 80/20 partition as well"
   ]
  },
  {
   "cell_type": "code",
   "execution_count": 10,
   "metadata": {},
   "outputs": [],
   "source": [
    "def get_train_test_split(df):\n",
    "    '''\n",
    "    Split data into training and test sets\n",
    "    '''\n",
    "    # Shuffle data frame\n",
    "    df = df.sample(frac=1)\n",
    "    \n",
    "    # Select same number of samples per class for train set, remaining go to test set\n",
    "    num_of_train_inputs = int(rows * 0.8 / 6)\n",
    "    train_df, test_df = (pd.DataFrame(columns=df.columns.values), pd.DataFrame(columns=df.columns.values))\n",
    "    labels = np.unique(df.loc[:,['Label']].values)\n",
    "    for label in labels:\n",
    "        train_df = train_df.append(df.loc[df['Label'] == label][0:num_of_train_inputs], ignore_index=True)\n",
    "        test_df = test_df.append(df.loc[df['Label'] == label][num_of_train_inputs:], ignore_index=True)\n",
    "\n",
    "    # Shuffle data frames (becuase they were appended in a per label fashion)\n",
    "    train_df = train_df.sample(frac=1)\n",
    "    test_df = test_df.sample(frac=1)\n",
    "    \n",
    "    # Split train and test datasets into labels/features\n",
    "    train_values   = train_df.iloc[:,1:].values\n",
    "    train_labels = train_df.iloc[:,:1].values.ravel()\n",
    "\n",
    "    test_values   = test_df.iloc[:,1:].values\n",
    "    test_labels = test_df.iloc[:,:1].values.ravel()\n",
    "    \n",
    "    return (train_values, train_labels, test_values, test_labels)"
   ]
  },
  {
   "cell_type": "markdown",
   "metadata": {},
   "source": [
    "## Methods"
   ]
  },
  {
   "cell_type": "markdown",
   "metadata": {},
   "source": [
    "#### k-Nearest Neighbors (kNN)"
   ]
  },
  {
   "cell_type": "markdown",
   "metadata": {},
   "source": [
    "TODO: Describe what kNN is and its hyper-parameters"
   ]
  },
  {
   "cell_type": "markdown",
   "metadata": {},
   "source": [
    "TODO: Explain choice of hyper-parameters (``n_neighbors``)"
   ]
  },
  {
   "cell_type": "markdown",
   "metadata": {},
   "source": [
    "TODO: In the experiments below, we also need to print the confusion matrix and confidence scores (for both the PCA and TSNE)"
   ]
  },
  {
   "cell_type": "markdown",
   "metadata": {},
   "source": [
    "Create a kNN model using the PCA components"
   ]
  },
  {
   "cell_type": "code",
   "execution_count": 11,
   "metadata": {},
   "outputs": [
    {
     "name": "stdout",
     "output_type": "stream",
     "text": [
      "kNN classifier accuracy using PCA components: \t0.63%\n"
     ]
    }
   ],
   "source": [
    "from sklearn import neighbors\n",
    "from sklearn.metrics import accuracy_score\n",
    "\n",
    "# Get train/test values and labels using the PCA components\n",
    "train_values, train_labels, test_values, test_labels = get_train_test_split(principal_labels_df)\n",
    "\n",
    "kNNClassifier = neighbors.KNeighborsClassifier(n_neighbors=15).fit(train_values, train_labels)\n",
    "predicted_labels = kNNClassifier.predict(test_values)\n",
    "knn_pca_acc = accuracy_score(test_labels, predicted_labels)\n",
    "print('kNN classifier accuracy using PCA components: \\t%.02f%%' % knn_pca_acc)"
   ]
  },
  {
   "cell_type": "markdown",
   "metadata": {},
   "source": [
    "Create a kNN model using the TSNE components"
   ]
  },
  {
   "cell_type": "code",
   "execution_count": 12,
   "metadata": {},
   "outputs": [
    {
     "name": "stdout",
     "output_type": "stream",
     "text": [
      "kNN classifier accuracy using TSNE components: \t0.27%\n"
     ]
    }
   ],
   "source": [
    "# Get train/test values and labels using the TSNE components\n",
    "train_values, train_labels, test_values, test_labels = get_train_test_split(tsne_labels_df)\n",
    "\n",
    "kNNClassifier = neighbors.KNeighborsClassifier(n_neighbors=15).fit(train_values, train_labels)\n",
    "predicted_labels = kNNClassifier.predict(test_values)\n",
    "knn_tsne_acc = accuracy_score(test_labels, predicted_labels)\n",
    "print('kNN classifier accuracy using TSNE components: \\t%.02f%%' % knn_tsne_acc)"
   ]
  },
  {
   "cell_type": "markdown",
   "metadata": {},
   "source": [
    "#### Support Vector Machine (SVM)"
   ]
  },
  {
   "cell_type": "markdown",
   "metadata": {},
   "source": [
    "TODO: Describe what SVM is"
   ]
  },
  {
   "cell_type": "markdown",
   "metadata": {},
   "source": [
    "TODO: In the experiments below, we also need to print the confusion matrix and confidence scores (for both the PCA and TSNE)"
   ]
  },
  {
   "cell_type": "markdown",
   "metadata": {},
   "source": [
    "Create a SVM model using the PCA components"
   ]
  },
  {
   "cell_type": "code",
   "execution_count": 33,
   "metadata": {},
   "outputs": [
    {
     "name": "stdout",
     "output_type": "stream",
     "text": [
      "SVM classifier accuracy using PCA components: \t0.80%\n"
     ]
    }
   ],
   "source": [
    "from sklearn.svm import LinearSVC\n",
    "\n",
    "# Get train/test values and labels using the PCA components\n",
    "train_values, train_labels, test_values, test_labels = get_train_test_split(principal_labels_df)\n",
    "\n",
    "svm = LinearSVC()\n",
    "svm.fit(train_values, train_labels)\n",
    "predicted_labels = svm.predict(test_values)\n",
    "svm_pca_acc = accuracy_score(test_labels, predicted_labels)\n",
    "print('SVM classifier accuracy using PCA components: \\t%.02f%%' % svm_pca_acc)"
   ]
  },
  {
   "cell_type": "markdown",
   "metadata": {},
   "source": [
    "Create a SVM model using the TSNE components"
   ]
  },
  {
   "cell_type": "code",
   "execution_count": 14,
   "metadata": {},
   "outputs": [
    {
     "name": "stdout",
     "output_type": "stream",
     "text": [
      "SVM classifier accuracy using TSNE components: \t0.24%\n"
     ]
    }
   ],
   "source": [
    "# Get train/test values and labels using the TSNE components\n",
    "train_values, train_labels, test_values, test_labels = get_train_test_split(tsne_labels_df)\n",
    "\n",
    "svm = LinearSVC()\n",
    "svm.fit(train_values, train_labels)\n",
    "predicted_labels = svm.predict(test_values)\n",
    "svm_tsne_acc = accuracy_score(test_labels, predicted_labels)\n",
    "print('SVM classifier accuracy using TSNE components: \\t%.02f%%' % svm_tsne_acc)"
   ]
  },
  {
   "cell_type": "markdown",
   "metadata": {},
   "source": [
    "#### Multilayer Perceptron (MLP)"
   ]
  },
  {
   "cell_type": "markdown",
   "metadata": {},
   "source": [
    "TODO: Describe what a MLP is"
   ]
  },
  {
   "cell_type": "markdown",
   "metadata": {},
   "source": [
    "TODO: Explain choice of hyper-parameters (``solver``, ``activation``, ``hidden_layer_sizes``, ``max_iter``, and ``batch_size``) "
   ]
  },
  {
   "cell_type": "markdown",
   "metadata": {},
   "source": [
    "TODO: In the experiments below, we also need to print the confusion matrix and confidence scores (for both the PCA and TSNE)"
   ]
  },
  {
   "cell_type": "markdown",
   "metadata": {},
   "source": [
    "Create a MLP model using the PCA components"
   ]
  },
  {
   "cell_type": "code",
   "execution_count": 43,
   "metadata": {},
   "outputs": [
    {
     "name": "stdout",
     "output_type": "stream",
     "text": [
      "MLP classifier accuracy using PCA components: \t0.83%\n"
     ]
    }
   ],
   "source": [
    "from sklearn.neural_network import MLPClassifier\n",
    "\n",
    "# Get train/test values and labels using the PCA components\n",
    "train_values, train_labels, test_values, test_labels = get_train_test_split(principal_labels_df)\n",
    "\n",
    "mlp = MLPClassifier(solver='adam', activation='identity', hidden_layer_sizes=18, \n",
    "                    max_iter=300, batch_size=64)\n",
    "mlp.fit(train_values, train_labels)\n",
    "predicted_labels = mlp.predict(test_values)\n",
    "mlp_pca_acc = accuracy_score(test_labels, predicted_labels)\n",
    "print('MLP classifier accuracy using PCA components: \\t%.02f%%' % mlp_pca_acc)"
   ]
  },
  {
   "cell_type": "markdown",
   "metadata": {},
   "source": [
    "Create a MLP model using the TSNE components"
   ]
  },
  {
   "cell_type": "code",
   "execution_count": 16,
   "metadata": {},
   "outputs": [
    {
     "name": "stdout",
     "output_type": "stream",
     "text": [
      "MLP classifier accuracy using TSNE components: \t0.19%\n"
     ]
    }
   ],
   "source": [
    "# Get train/test values and labels using the PCA components\n",
    "train_values, train_labels, test_values, test_labels = get_train_test_split(tsne_labels_df)\n",
    "\n",
    "mlp = MLPClassifier(solver='adam', activation='identity', hidden_layer_sizes=18, \n",
    "                    max_iter=300, batch_size=64)\n",
    "mlp.fit(train_values, train_labels)\n",
    "predicted_labels = mlp.predict(test_values)\n",
    "mlp_tsne_acc = accuracy_score(test_labels, predicted_labels)\n",
    "print('MLP classifier accuracy using TSNE components: \\t%.02f%%' % mlp_tsne_acc)"
   ]
  },
  {
   "cell_type": "markdown",
   "metadata": {},
   "source": [
    "#### Random Forest"
   ]
  },
  {
   "cell_type": "markdown",
   "metadata": {},
   "source": [
    "TODO: Describe what a Random Forest is"
   ]
  },
  {
   "cell_type": "markdown",
   "metadata": {},
   "source": [
    "TODO: Explain choice of hyper-parameters (``n_estimators``, ``n_jobs``, ``criterion``, and ``max_features``) "
   ]
  },
  {
   "cell_type": "markdown",
   "metadata": {},
   "source": [
    "TODO: In the experiments below, we also need to print the confusion matrix and confidence scores (for both the PCA and TSNE)"
   ]
  },
  {
   "cell_type": "markdown",
   "metadata": {},
   "source": [
    "Create a Random Forest model using the PCA components"
   ]
  },
  {
   "cell_type": "code",
   "execution_count": 17,
   "metadata": {},
   "outputs": [
    {
     "name": "stdout",
     "output_type": "stream",
     "text": [
      "Random Forest classifier accuracy using PCA components: \t0.61%\n"
     ]
    }
   ],
   "source": [
    "from sklearn.ensemble import RandomForestClassifier\n",
    "\n",
    "# Get train/test values and labels using the PCA components\n",
    "train_values, train_labels, test_values, test_labels = get_train_test_split(principal_labels_df)\n",
    "\n",
    "random_forest = RandomForestClassifier(n_estimators=10, n_jobs=1, criterion='gini', max_depth=6, max_features='sqrt')\n",
    "random_forest.fit(train_values, train_labels)\n",
    "predicted_labels = random_forest.predict(test_values)\n",
    "random_forest_pca_acc = accuracy_score(test_labels, predicted_labels)\n",
    "print('Random Forest classifier accuracy using PCA components: \\t%.02f%%' % random_forest_pca_acc)"
   ]
  },
  {
   "cell_type": "markdown",
   "metadata": {},
   "source": [
    "Create a Random Forest model using the TSNE components"
   ]
  },
  {
   "cell_type": "code",
   "execution_count": 18,
   "metadata": {},
   "outputs": [
    {
     "name": "stdout",
     "output_type": "stream",
     "text": [
      "Random Forest classifier accuracy using TSNE components: \t0.24%\n"
     ]
    }
   ],
   "source": [
    "# Get train/test values and labels using the PCA components\n",
    "train_values, train_labels, test_values, test_labels = get_train_test_split(tsne_labels_df)\n",
    "\n",
    "random_forest = RandomForestClassifier(n_estimators=10, n_jobs=1, criterion='gini', max_depth=6, max_features='sqrt')\n",
    "random_forest.fit(train_values, train_labels)\n",
    "predicted_labels = random_forest.predict(test_values)\n",
    "random_forest_tsne_acc = accuracy_score(test_labels, predicted_labels)\n",
    "print('Random Forest classifier accuracy using TSNE components: \\t%.02f%%' % random_forest_tsne_acc)"
   ]
  },
  {
   "cell_type": "markdown",
   "metadata": {},
   "source": [
    "## Conclusion"
   ]
  },
  {
   "cell_type": "markdown",
   "metadata": {},
   "source": [
    "TODO: Summary of our work and what configuration (model, PCA/TSNE, etc) produced the best results"
   ]
  },
  {
   "cell_type": "code",
   "execution_count": 44,
   "metadata": {},
   "outputs": [
    {
     "name": "stdout",
     "output_type": "stream",
     "text": [
      "kNN with PCA classifier accuracy: \t0.63%\n",
      "SVM with PCA classifier accuracy: \t0.80%\n",
      "MLP with PCA classifier accuracy: \t0.83%\n",
      "Random Forest with PCA classifier accuracy: \t0.61%\n"
     ]
    }
   ],
   "source": [
    "pca_models = {\n",
    "    'kNN with PCA': knn_pca_acc,\n",
    "    'SVM with PCA': svm_pca_acc,\n",
    "    'MLP with PCA': mlp_pca_acc,\n",
    "    'Random Forest with PCA': random_forest_pca_acc\n",
    "}\n",
    "\n",
    "for model, acc in pca_models.items():\n",
    "    print('%s classifier accuracy: \\t%.02f%%' % (model, acc))"
   ]
  },
  {
   "cell_type": "code",
   "execution_count": 45,
   "metadata": {},
   "outputs": [
    {
     "name": "stdout",
     "output_type": "stream",
     "text": [
      "kNN with TSNE classifier accuracy: \t0.27%\n",
      "SVM with TSNE classifier accuracy: \t0.24%\n",
      "MLP with TSNE classifier accuracy: \t0.19%\n",
      "Random Forest with TSNE classifier accuracy: \t0.24%\n"
     ]
    }
   ],
   "source": [
    "tsne_models = {\n",
    "    'kNN with TSNE': knn_tsne_acc,\n",
    "    'SVM with TSNE': svm_tsne_acc,\n",
    "    'MLP with TSNE': mlp_tsne_acc,\n",
    "    'Random Forest with TSNE': random_forest_tsne_acc\n",
    "}\n",
    "    \n",
    "for model, acc in tsne_models.items():\n",
    "    print('%s classifier accuracy: \\t%.02f%%' % (model, acc))"
   ]
  }
 ],
 "metadata": {
  "kernelspec": {
   "display_name": "Python 3",
   "language": "python",
   "name": "python3"
  },
  "language_info": {
   "codemirror_mode": {
    "name": "ipython",
    "version": 3
   },
   "file_extension": ".py",
   "mimetype": "text/x-python",
   "name": "python",
   "nbconvert_exporter": "python",
   "pygments_lexer": "ipython3",
   "version": "3.6.4"
  }
 },
 "nbformat": 4,
 "nbformat_minor": 2
}
