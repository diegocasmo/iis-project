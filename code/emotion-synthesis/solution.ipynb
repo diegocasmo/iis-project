{
 "cells": [
  {
   "cell_type": "markdown",
   "metadata": {},
   "source": [
    "# Output For ES Group"
   ]
  },
  {
   "cell_type": "code",
   "execution_count": 1,
   "metadata": {},
   "outputs": [],
   "source": [
    "import numpy as np\n",
    "from constants import get_all_emotions\n",
    "from sklearn.decomposition import PCA\n",
    "from sklearn.externals import joblib\n",
    "from sklearn.preprocessing import normalize\n",
    "import json\n",
    "import pandas as pd"
   ]
  },
  {
   "cell_type": "markdown",
   "metadata": {},
   "source": [
    "## Data Reading"
   ]
  },
  {
   "cell_type": "markdown",
   "metadata": {},
   "source": [
    "TODO: Describe how you are reading the data and who is sending it to you"
   ]
  },
  {
   "cell_type": "code",
   "execution_count": 3,
   "metadata": {},
   "outputs": [],
   "source": [
    "#This will be replaced with the reading data from CV Group\n",
    "# Sample data, do not skip\n",
    "data_df = pd.read_csv(r'../../data/lm3.csv')\n",
    "data_df = data_df.dropna(axis=1, how='any')\n",
    "features = [x != 'Label' for x in data_df.columns.values]\n",
    "all_values = data_df.loc[:, features].values\n",
    "r = all_values[0]"
   ]
  },
  {
   "cell_type": "markdown",
   "metadata": {},
   "source": [
    "# Load PCA Model\n",
    "TODO : Why are we loading the model"
   ]
  },
  {
   "cell_type": "code",
   "execution_count": 5,
   "metadata": {},
   "outputs": [
    {
     "name": "stdout",
     "output_type": "stream",
     "text": [
      "[[-0.25785733 -0.00609646  0.08113771 -0.19677609  0.01622542  0.13709439\n",
      "  -0.11281103 -0.00681743  0.12951004 -0.00518464 -0.00440359  0.13923257\n",
      "   0.06895539  0.01672728  0.13967434  0.13524248  0.00316309  0.0842796\n",
      "  -0.21994618 -0.04806132  0.08265387 -0.10812471 -0.04759834  0.09859303\n",
      "  -0.00483476 -0.04455894  0.10108109  0.10942882 -0.03194192  0.0684182\n",
      "  -0.0724719  -0.07254965  0.15543678 -0.02318069 -0.07321054  0.14430411\n",
      "  -0.10908601 -0.18382685  0.13859995 -0.04522337 -0.15675503  0.21388506\n",
      "   0.0165647  -0.17840895  0.13319972 -0.10144511 -0.28827602  0.11187094\n",
      "  -0.04037448 -0.27505818  0.15627438  0.02773978 -0.27810818  0.10595472\n",
      "  -0.03495658 -0.30493968  0.13932092]]\n"
     ]
    }
   ],
   "source": [
    "# Normalize\n",
    "all_values = normalize([r], axis=1)\n",
    "print(all_values)\n",
    "\n",
    "# Load PCA model and transform input\n",
    "pca = joblib.load('pca-model.pkl')\n",
    "principal_components = pca.transform(all_values)\n",
    "#print(principal_components)"
   ]
  },
  {
   "cell_type": "markdown",
   "metadata": {},
   "source": [
    "# MLP Model\n",
    "TODO:  what model are we loading and what data using for the prediction"
   ]
  },
  {
   "cell_type": "code",
   "execution_count": 6,
   "metadata": {},
   "outputs": [],
   "source": [
    "mlp = joblib.load('mlp-model.pkl')\n",
    "predicted_labels = mlp.predict_proba(principal_components)[0]"
   ]
  },
  {
   "cell_type": "markdown",
   "metadata": {},
   "source": [
    "# Output"
   ]
  },
  {
   "cell_type": "code",
   "execution_count": 8,
   "metadata": {},
   "outputs": [
    {
     "name": "stdout",
     "output_type": "stream",
     "text": [
      "{'ANGER': 2.650928287486342e-47, 'DISGUST': 9.792196159323854e-58, 'FEAR': 6.473972500207989e-15, 'HAPPY': 4.823083835300174e-87, 'SADNESS': 3.1159392832426458e-77, 'SURPRISE': 0.9999999999999936}\n"
     ]
    }
   ],
   "source": [
    "# Assign each score to its label\n",
    "confidence = {}\n",
    "labels = get_all_emotions()\n",
    "for index,emotion in enumerate(labels):\n",
    "    confidence[emotion] = predicted_labels[index]\n",
    "\n",
    "print(confidence)"
   ]
  },
  {
   "cell_type": "markdown",
   "metadata": {},
   "source": [
    "# JSON\n",
    "TODO: How are we sending the output to Emotion Synthesis group and what are we getting"
   ]
  },
  {
   "cell_type": "code",
   "execution_count": 9,
   "metadata": {},
   "outputs": [],
   "source": [
    "json_string = json.dumps(confidence)\n",
    "with open('output.json', 'w') as outfile:\n",
    "    json.dump(confidence, outfile)"
   ]
  }
 ],
 "metadata": {
  "kernelspec": {
   "display_name": "Python 3",
   "language": "python",
   "name": "python3"
  },
  "language_info": {
   "codemirror_mode": {
    "name": "ipython",
    "version": 3
   },
   "file_extension": ".py",
   "mimetype": "text/x-python",
   "name": "python",
   "nbconvert_exporter": "python",
   "pygments_lexer": "ipython3",
   "version": "3.6.4"
  }
 },
 "nbformat": 4,
 "nbformat_minor": 2
}
